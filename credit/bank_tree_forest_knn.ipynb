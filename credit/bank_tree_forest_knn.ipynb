{
 "cells": [
  {
   "cell_type": "code",
   "execution_count": 1,
   "metadata": {},
   "outputs": [],
   "source": [
    "import pandas as pd\n",
    "import numpy as np\n",
    "import matplotlib.pyplot as plt\n",
    "from sklearn.model_selection import train_test_split\n",
    "from sklearn import metrics\n",
    "from sklearn.preprocessing import LabelEncoder, OneHotEncoder, scale\n",
    "from sklearn.model_selection import GridSearchCV, cross_val_score\n",
    "from sklearn.linear_model import LogisticRegression, Lasso, Ridge\n",
    "from sklearn.tree import DecisionTreeClassifier\n",
    "from sklearn.ensemble import RandomForestClassifier\n",
    "from imblearn.over_sampling import RandomOverSampler\n",
    "from imblearn.under_sampling import RandomUnderSampler\n",
    "from sklearn.neighbors import KNeighborsClassifier\n",
    "from hyperopt import fmin, tpe, hp, STATUS_OK, Trials\n",
    "from sklearn.model_selection import cross_val_score\n",
    "\n",
    "\n",
    "%matplotlib inline"
   ]
  },
  {
   "cell_type": "code",
   "execution_count": 2,
   "metadata": {},
   "outputs": [],
   "source": [
    "data = pd.read_csv('train.csv')"
   ]
  },
  {
   "cell_type": "code",
   "execution_count": 3,
   "metadata": {},
   "outputs": [],
   "source": [
    "def preprocessing_data(data, dict_grade=None,dict_sub_grade=None, dict_emp_title=None, dict_pymnt_plan=None, dict_purpose=None):\n",
    "    numeric_data = data.drop(['record_id', 'earliest_cr_line', 'issue_d', 'addr_state', 'zip_code'], axis=1)\n",
    "    \n",
    "    numeric_data['term'] = numeric_data['term'].map({' 36 months': 0, ' 60 months': 1})\n",
    "    numeric_data['application_type'] = numeric_data['application_type'].map({'INDIVIDUAL': 0, 'JOINT': 1})\n",
    "    numeric_data['initial_list_status'] = numeric_data['initial_list_status'].map({'f': 0, 'w': 1})\n",
    "    numeric_data['emp_length'] = numeric_data['emp_length'].map({'< 1 year': 1, '1 year': 2, '2 years': 3,  '3 years': 4,  '4 years': 5,  '5 years': 6,  '6 years': 7,  '7 years': 8,  '8 years': 9,  '9 years': 10,  '10+ years': 11})\n",
    "\n",
    "#     numeric_data['addr_state'] = pd.factorize(numeric_data['addr_state'])[0]\n",
    "    numeric_data['emp_length'].fillna(0, inplace=True)\n",
    "    numeric_data['emp_title'].fillna('0', inplace=True)\n",
    "    numeric_data['mths_since_last_delinq'].fillna(numeric_data['mths_since_last_delinq'].notnull().min(), inplace=True)\n",
    "    numeric_data['collections_12_mths_ex_med'].fillna(numeric_data['collections_12_mths_ex_med'].notnull().max(), inplace=True)\n",
    "    numeric_data['revol_util'].fillna(numeric_data['revol_util'].notnull().mean(), inplace=True)\n",
    "    numeric_data['tot_coll_amt'].fillna(numeric_data['tot_coll_amt'].notnull().min(), inplace=True)\n",
    "    numeric_data['tot_cur_bal'].fillna(numeric_data['tot_cur_bal'].notnull().min(), inplace=True)\n",
    "    numeric_data['total_rev_hi_lim'].fillna(numeric_data['total_rev_hi_lim'].notnull().min(), inplace=True)\n",
    "\n",
    "    \n",
    "    ohe = OneHotEncoder()\n",
    "    new_ohe_features = ohe.fit(numeric_data.home_ownership.values.reshape(-1, 1))\n",
    "    data['home_ownership_ohe'] = ohe.transform(numeric_data.home_ownership.values.reshape(-1, 1))\n",
    "#     print(ohe.get_feature_names())\n",
    "    new_ohe_features = ohe.fit(numeric_data.verification_status.values.reshape(-1, 1))\n",
    "    data['verification_ohe'] = ohe.transform(numeric_data.verification_status.values.reshape(-1, 1))\n",
    "    \n",
    "    le = LabelEncoder()\n",
    "\n",
    "    if dict_grade is None:\n",
    "        le.fit(numeric_data.grade.astype(str))\n",
    "        numeric_data['grade_le'] = le.transform((numeric_data['grade'].values))\n",
    "        dict_grade = dict(zip(le.classes_, le.transform(le.classes_)))\n",
    "    else:\n",
    "        numeric_data['grade_le'] = numeric_data['grade'].map(dict_grade).fillna(-1)  \n",
    "\n",
    "    if dict_sub_grade is None:\n",
    "        le.fit(numeric_data.sub_grade.astype(str))\n",
    "        numeric_data['sub_grade_le'] = le.transform(numeric_data['sub_grade'].values)\n",
    "        dict_sub_grade = dict(zip(le.classes_, le.transform(le.classes_)))\n",
    "    else:\n",
    "        numeric_data['sub_grade_le'] = numeric_data['sub_grade'].map(dict_sub_grade).fillna(-1)  \n",
    "    \n",
    "    if dict_emp_title is None:\n",
    "        le.fit(numeric_data.emp_title.astype(str))\n",
    "        numeric_data['emp_title_le'] = le.transform(numeric_data['emp_title'].values)\n",
    "        dict_emp_title = dict(zip(le.classes_, le.transform(le.classes_)))\n",
    "    else:\n",
    "        numeric_data['emp_title_le'] = numeric_data['emp_title'].map(dict_emp_title).fillna(-1)        \n",
    "\n",
    "    if dict_pymnt_plan is None:\n",
    "        le.fit(numeric_data.pymnt_plan.astype(str))\n",
    "        numeric_data['pymnt_plan_le'] = le.transform(numeric_data['pymnt_plan'].values)\n",
    "        dict_pymnt_plan = dict(zip(le.classes_, le.transform(le.classes_)))\n",
    "    else:\n",
    "        numeric_data['pymnt_plan_le'] = numeric_data['pymnt_plan'].map(dict_pymnt_plan).fillna(0)  \n",
    "    \n",
    "    if dict_purpose is None:\n",
    "        le.fit(numeric_data.purpose.astype(str))\n",
    "        numeric_data['purpose_le'] = le.transform(numeric_data['purpose'].values)\n",
    "        dict_purpose = dict(zip(le.classes_, le.transform(le.classes_)))\n",
    "#         dict_purpose[None] = 5\n",
    "    else:\n",
    "        numeric_data['purpose_le'] = numeric_data['purpose'].map(dict_purpose).fillna(-1) \n",
    "#     print(dict_grade)\n",
    "\n",
    "    numeric_data = numeric_data.drop(['grade', 'sub_grade', 'purpose', 'emp_title', 'pymnt_plan', 'home_ownership', 'verification_status'], axis=1)\n",
    "    \n",
    "    return numeric_data, dict_grade, dict_sub_grade, dict_emp_title, dict_pymnt_plan, dict_purpose\n",
    "\n",
    "    #     numeric_data['zip_code'] = (numeric_data['zip_code'].str[:3])"
   ]
  },
  {
   "cell_type": "code",
   "execution_count": 4,
   "metadata": {},
   "outputs": [],
   "source": [
    "train, test = train_test_split(data, test_size=0.3, random_state=42)"
   ]
  },
  {
   "cell_type": "code",
   "execution_count": 5,
   "metadata": {},
   "outputs": [
    {
     "name": "stderr",
     "output_type": "stream",
     "text": [
      "C:\\Users\\NikitsinskayaH\\AppData\\Local\\Continuum\\anaconda3\\lib\\site-packages\\ipykernel_launcher.py:22: SettingWithCopyWarning: \n",
      "A value is trying to be set on a copy of a slice from a DataFrame.\n",
      "Try using .loc[row_indexer,col_indexer] = value instead\n",
      "\n",
      "See the caveats in the documentation: http://pandas.pydata.org/pandas-docs/stable/indexing.html#indexing-view-versus-copy\n",
      "C:\\Users\\NikitsinskayaH\\AppData\\Local\\Continuum\\anaconda3\\lib\\site-packages\\ipykernel_launcher.py:25: SettingWithCopyWarning: \n",
      "A value is trying to be set on a copy of a slice from a DataFrame.\n",
      "Try using .loc[row_indexer,col_indexer] = value instead\n",
      "\n",
      "See the caveats in the documentation: http://pandas.pydata.org/pandas-docs/stable/indexing.html#indexing-view-versus-copy\n",
      "C:\\Users\\NikitsinskayaH\\AppData\\Local\\Continuum\\anaconda3\\lib\\site-packages\\ipykernel_launcher.py:22: SettingWithCopyWarning: \n",
      "A value is trying to be set on a copy of a slice from a DataFrame.\n",
      "Try using .loc[row_indexer,col_indexer] = value instead\n",
      "\n",
      "See the caveats in the documentation: http://pandas.pydata.org/pandas-docs/stable/indexing.html#indexing-view-versus-copy\n",
      "C:\\Users\\NikitsinskayaH\\AppData\\Local\\Continuum\\anaconda3\\lib\\site-packages\\ipykernel_launcher.py:25: SettingWithCopyWarning: \n",
      "A value is trying to be set on a copy of a slice from a DataFrame.\n",
      "Try using .loc[row_indexer,col_indexer] = value instead\n",
      "\n",
      "See the caveats in the documentation: http://pandas.pydata.org/pandas-docs/stable/indexing.html#indexing-view-versus-copy\n"
     ]
    }
   ],
   "source": [
    "train, dict_grade, dict_sub_grade, dict_emp_title, dict_pymnt_plan, dict_purpose = preprocessing_data(train)\n",
    "test = preprocessing_data(test, dict_grade, dict_sub_grade, dict_emp_title, dict_pymnt_plan, dict_purpose)[0]"
   ]
  },
  {
   "cell_type": "code",
   "execution_count": 6,
   "metadata": {},
   "outputs": [
    {
     "name": "stderr",
     "output_type": "stream",
     "text": [
      "C:\\Users\\NikitsinskayaH\\AppData\\Local\\Continuum\\anaconda3\\lib\\site-packages\\ipykernel_launcher.py:7: DataConversionWarning: Data with input dtype int32, int64, float64, object were all converted to float64 by the scale function.\n",
      "  import sys\n",
      "C:\\Users\\NikitsinskayaH\\AppData\\Local\\Continuum\\anaconda3\\lib\\site-packages\\ipykernel_launcher.py:8: DataConversionWarning: Data with input dtype int64, float64, object were all converted to float64 by the scale function.\n",
      "  \n"
     ]
    }
   ],
   "source": [
    "X_train = train.drop(['loan_status'], axis=1)\n",
    "y_train = train['loan_status']\n",
    "\n",
    "X_test = test.drop(['loan_status'], axis=1)\n",
    "y_test = test['loan_status']\n",
    "\n",
    "X_train = scale(X_train)\n",
    "X_test = scale(X_test)\n",
    "\n",
    "ros = RandomOverSampler(random_state=0)\n",
    "X_train, y_train = ros.fit_resample(X_train, y_train)\n",
    "# print(len(y_train))"
   ]
  },
  {
   "cell_type": "code",
   "execution_count": 7,
   "metadata": {},
   "outputs": [
    {
     "name": "stderr",
     "output_type": "stream",
     "text": [
      "C:\\Users\\NikitsinskayaH\\AppData\\Local\\Continuum\\anaconda3\\lib\\site-packages\\sklearn\\linear_model\\logistic.py:433: FutureWarning: Default solver will be changed to 'lbfgs' in 0.22. Specify a solver to silence this warning.\n",
      "  FutureWarning)\n"
     ]
    },
    {
     "name": "stdout",
     "output_type": "stream",
     "text": [
      "l1: \n",
      "Accuracy score: 0.6539953710641557\n",
      "Recall score: 0.6579746077886547\n",
      "Precision score: 0.8656431021877284\n",
      "Auc score: 0.6489707263945159\n"
     ]
    }
   ],
   "source": [
    "model_l1 = LogisticRegression(penalty='l1', random_state=42)\n",
    "model_l1.fit(X_train, y_train)\n",
    "preds = model_l1.predict(X_test)\n",
    "\n",
    "print('l1: ')\n",
    "print('Accuracy score: ' + str(metrics.accuracy_score(y_test, preds)))\n",
    "\n",
    "print('Recall score: ' + str(metrics.recall_score(y_test, preds)))\n",
    "\n",
    "print('Precision score: ' + str(metrics.precision_score(y_test, preds)))\n",
    "\n",
    "print('Auc score: ' + str(metrics.roc_auc_score(y_test, preds)))"
   ]
  },
  {
   "cell_type": "code",
   "execution_count": 8,
   "metadata": {},
   "outputs": [
    {
     "name": "stderr",
     "output_type": "stream",
     "text": [
      "C:\\Users\\NikitsinskayaH\\AppData\\Local\\Continuum\\anaconda3\\lib\\site-packages\\sklearn\\linear_model\\logistic.py:433: FutureWarning: Default solver will be changed to 'lbfgs' in 0.22. Specify a solver to silence this warning.\n",
      "  FutureWarning)\n"
     ]
    },
    {
     "name": "stdout",
     "output_type": "stream",
     "text": [
      "l2: \n",
      "Accuracy score: 0.6540453236092378\n",
      "Recall score: 0.6579959817039285\n",
      "Precision score: 0.8656955653665532\n",
      "Auc score: 0.6490567656240236\n"
     ]
    }
   ],
   "source": [
    "model_l2 = LogisticRegression(penalty='l2', random_state=42)\n",
    "model_l2.fit(X_train, y_train)\n",
    "preds = model_l2.predict(X_test)\n",
    "\n",
    "print('l2: ')\n",
    "print('Accuracy score: ' + str(metrics.accuracy_score(y_test, preds)))\n",
    "\n",
    "print('Recall score: ' + str(metrics.recall_score(y_test, preds)))\n",
    "\n",
    "print('Precision score: ' + str(metrics.precision_score(y_test, preds)))\n",
    "\n",
    "print('Auc score: ' + str(metrics.roc_auc_score(y_test, preds)))"
   ]
  },
  {
   "cell_type": "code",
   "execution_count": 128,
   "metadata": {},
   "outputs": [
    {
     "name": "stdout",
     "output_type": "stream",
     "text": [
      "\r",
      "  0%|          | 0/10 [00:00<?, ?it/s, best loss: ?]"
     ]
    },
    {
     "name": "stderr",
     "output_type": "stream",
     "text": [
      "C:\\Users\\NikitsinskayaH\\AppData\\Local\\Continuum\\anaconda3\\lib\\site-packages\\sklearn\\model_selection\\_split.py:2053: FutureWarning: You should specify a value for 'cv' instead of relying on the default value. The default value will change from 3 to 5 in version 0.22.\n",
      "  warnings.warn(CV_WARNING, FutureWarning)\n",
      "\n"
     ]
    },
    {
     "name": "stdout",
     "output_type": "stream",
     "text": [
      "new best:                                           \n",
      "0.6554213702291357                                  \n",
      "{'max_depth': 7, 'min_samples_leaf': 5, 'n_estimators': 200}\n",
      " 10%|█         | 1/10 [02:15<20:17, 135.23s/it, best loss: -0.6554213702291357]"
     ]
    },
    {
     "name": "stderr",
     "output_type": "stream",
     "text": [
      "C:\\Users\\NikitsinskayaH\\AppData\\Local\\Continuum\\anaconda3\\lib\\site-packages\\sklearn\\model_selection\\_split.py:2053: FutureWarning: You should specify a value for 'cv' instead of relying on the default value. The default value will change from 3 to 5 in version 0.22.\n",
      "  warnings.warn(CV_WARNING, FutureWarning)\n",
      "\n"
     ]
    },
    {
     "name": "stdout",
     "output_type": "stream",
     "text": [
      "new best:                                                                      \n",
      "0.6554213702291357                                                             \n",
      "{'max_depth': 3, 'min_samples_leaf': 3, 'n_estimators': 100}                   \n",
      " 20%|██        | 2/10 [02:52<14:05, 105.71s/it, best loss: -0.6554213702291357]"
     ]
    },
    {
     "name": "stderr",
     "output_type": "stream",
     "text": [
      "C:\\Users\\NikitsinskayaH\\AppData\\Local\\Continuum\\anaconda3\\lib\\site-packages\\sklearn\\model_selection\\_split.py:2053: FutureWarning: You should specify a value for 'cv' instead of relying on the default value. The default value will change from 3 to 5 in version 0.22.\n",
      "  warnings.warn(CV_WARNING, FutureWarning)\n",
      "\n"
     ]
    },
    {
     "name": "stdout",
     "output_type": "stream",
     "text": [
      "new best:                                                                      \n",
      "0.6556785492216448                                                             \n",
      "{'max_depth': 7, 'min_samples_leaf': 3, 'n_estimators': 500}                   \n",
      " 30%|███       | 3/10 [08:21<20:09, 172.83s/it, best loss: -0.6556785492216448]"
     ]
    },
    {
     "name": "stderr",
     "output_type": "stream",
     "text": [
      "C:\\Users\\NikitsinskayaH\\AppData\\Local\\Continuum\\anaconda3\\lib\\site-packages\\sklearn\\model_selection\\_split.py:2053: FutureWarning: You should specify a value for 'cv' instead of relying on the default value. The default value will change from 3 to 5 in version 0.22.\n",
      "  warnings.warn(CV_WARNING, FutureWarning)\n",
      "\n"
     ]
    },
    {
     "name": "stdout",
     "output_type": "stream",
     "text": [
      "new best:                                                                      \n",
      "0.6696808438745588                                                             \n",
      "{'max_depth': 9, 'min_samples_leaf': 5, 'n_estimators': 500}                   \n",
      " 40%|████      | 4/10 [15:08<24:19, 243.20s/it, best loss: -0.6696808438745588]"
     ]
    },
    {
     "name": "stderr",
     "output_type": "stream",
     "text": [
      "C:\\Users\\NikitsinskayaH\\AppData\\Local\\Continuum\\anaconda3\\lib\\site-packages\\sklearn\\model_selection\\_split.py:2053: FutureWarning: You should specify a value for 'cv' instead of relying on the default value. The default value will change from 3 to 5 in version 0.22.\n",
      "  warnings.warn(CV_WARNING, FutureWarning)\n",
      "\n"
     ]
    },
    {
     "name": "stdout",
     "output_type": "stream",
     "text": [
      "new best:                                                                      \n",
      "0.6696808438745588                                                             \n",
      "{'max_depth': 5, 'min_samples_leaf': 5, 'n_estimators': 200}                   \n",
      " 50%|█████     | 5/10 [16:50<16:44, 200.84s/it, best loss: -0.6696808438745588]"
     ]
    },
    {
     "name": "stderr",
     "output_type": "stream",
     "text": [
      "C:\\Users\\NikitsinskayaH\\AppData\\Local\\Continuum\\anaconda3\\lib\\site-packages\\sklearn\\model_selection\\_split.py:2053: FutureWarning: You should specify a value for 'cv' instead of relying on the default value. The default value will change from 3 to 5 in version 0.22.\n",
      "  warnings.warn(CV_WARNING, FutureWarning)\n",
      "\n"
     ]
    },
    {
     "name": "stdout",
     "output_type": "stream",
     "text": [
      "new best:                                                                      \n",
      "0.6696808438745588                                                             \n",
      "{'max_depth': 9, 'min_samples_leaf': 3, 'n_estimators': 100}                   \n",
      " 60%|██████    | 6/10 [18:12<11:00, 165.19s/it, best loss: -0.6696808438745588]"
     ]
    },
    {
     "name": "stderr",
     "output_type": "stream",
     "text": [
      "C:\\Users\\NikitsinskayaH\\AppData\\Local\\Continuum\\anaconda3\\lib\\site-packages\\sklearn\\model_selection\\_split.py:2053: FutureWarning: You should specify a value for 'cv' instead of relying on the default value. The default value will change from 3 to 5 in version 0.22.\n",
      "  warnings.warn(CV_WARNING, FutureWarning)\n",
      "\n"
     ]
    },
    {
     "name": "stdout",
     "output_type": "stream",
     "text": [
      "new best:                                                                      \n",
      "0.6696808438745588                                                             \n",
      "{'max_depth': 9, 'min_samples_leaf': 3, 'n_estimators': 200}                   \n",
      " 70%|███████   | 7/10 [20:54<08:12, 164.14s/it, best loss: -0.6696808438745588]"
     ]
    },
    {
     "name": "stderr",
     "output_type": "stream",
     "text": [
      "C:\\Users\\NikitsinskayaH\\AppData\\Local\\Continuum\\anaconda3\\lib\\site-packages\\sklearn\\model_selection\\_split.py:2053: FutureWarning: You should specify a value for 'cv' instead of relying on the default value. The default value will change from 3 to 5 in version 0.22.\n",
      "  warnings.warn(CV_WARNING, FutureWarning)\n",
      "\n"
     ]
    },
    {
     "name": "stdout",
     "output_type": "stream",
     "text": [
      "new best:                                                                      \n",
      "0.6696808438745588                                                             \n",
      "{'max_depth': 3, 'min_samples_leaf': 5, 'n_estimators': 100}                   \n",
      " 80%|████████  | 8/10 [21:30<04:11, 125.81s/it, best loss: -0.6696808438745588]"
     ]
    },
    {
     "name": "stderr",
     "output_type": "stream",
     "text": [
      "C:\\Users\\NikitsinskayaH\\AppData\\Local\\Continuum\\anaconda3\\lib\\site-packages\\sklearn\\model_selection\\_split.py:2053: FutureWarning: You should specify a value for 'cv' instead of relying on the default value. The default value will change from 3 to 5 in version 0.22.\n",
      "  warnings.warn(CV_WARNING, FutureWarning)\n",
      "\n"
     ]
    },
    {
     "name": "stdout",
     "output_type": "stream",
     "text": [
      "new best:                                                                      \n",
      "0.6696808438745588                                                             \n",
      "{'max_depth': 7, 'min_samples_leaf': 5, 'n_estimators': 500}                   \n",
      " 90%|█████████ | 9/10 [26:58<03:06, 186.22s/it, best loss: -0.6696808438745588]"
     ]
    },
    {
     "name": "stderr",
     "output_type": "stream",
     "text": [
      "C:\\Users\\NikitsinskayaH\\AppData\\Local\\Continuum\\anaconda3\\lib\\site-packages\\sklearn\\model_selection\\_split.py:2053: FutureWarning: You should specify a value for 'cv' instead of relying on the default value. The default value will change from 3 to 5 in version 0.22.\n",
      "  warnings.warn(CV_WARNING, FutureWarning)\n",
      "\n"
     ]
    },
    {
     "name": "stdout",
     "output_type": "stream",
     "text": [
      "new best:                                                                      \n",
      "0.6696808438745588                                                             \n",
      "{'max_depth': 5, 'min_samples_leaf': 5, 'n_estimators': 200}                   \n",
      "100%|██████████| 10/10 [28:41<00:00, 161.26s/it, best loss: -0.6696808438745588]\n",
      "best:\n",
      "{'max_depth': 3, 'min_samples_leaf': 1, 'n_estimators': 2}\n"
     ]
    }
   ],
   "source": [
    "def acc_model(params):\n",
    "    clf = RandomForestClassifier(**params)\n",
    "    return cross_val_score(clf, X_train, y_train).mean()\n",
    "\n",
    "param_space = {\n",
    "    'max_depth': hp.choice('max_depth', [3, 5, 7, 9]),\n",
    "    'min_samples_leaf': hp.choice('min_samples_leaf', [3, 5]),\n",
    "    'n_estimators': hp.choice('n_estimators', [100, 200, 500]),\n",
    "#     'criterion': hp.choice('criterion', [\"entropy\",\"gini\"])\n",
    "}\n",
    "\n",
    "best = 0\n",
    "def f(params):\n",
    "    global best\n",
    "    acc = acc_model(params)\n",
    "    if acc > best:\n",
    "        best = acc\n",
    "    print ('new best:', best, params)\n",
    "    return {'loss': -acc, 'status': STATUS_OK}\n",
    "\n",
    "trials = Trials()\n",
    "best = fmin(f, param_space, algo=tpe.suggest, max_evals=10, trials=trials)\n",
    "print ('best:')\n",
    "print (best)"
   ]
  },
  {
   "cell_type": "code",
   "execution_count": 9,
   "metadata": {},
   "outputs": [
    {
     "name": "stdout",
     "output_type": "stream",
     "text": [
      "Forest: \n",
      "Accuracy score: 0.6462360757280583\n",
      "Recall score: 0.6431838584191852\n",
      "Precision score: 0.8686063964900127\n",
      "Auc score: 0.6500901584312037\n"
     ]
    }
   ],
   "source": [
    "forest_tree = RandomForestClassifier(n_estimators=500, min_samples_leaf=5, max_depth=9, n_jobs=-1, random_state=42)\n",
    "\n",
    "forest_tree.fit(X_train, y_train)\n",
    "preds = forest_tree.predict(X_test)\n",
    "\n",
    "print('Forest: ')\n",
    "print('Accuracy score: ' + str(metrics.accuracy_score(y_test, preds)))\n",
    "\n",
    "print('Recall score: ' + str(metrics.recall_score(y_test, preds)))\n",
    "\n",
    "print('Precision score: ' + str(metrics.precision_score(y_test, preds)))\n",
    "\n",
    "print('Auc score: ' + str(metrics.roc_auc_score(y_test, preds)))"
   ]
  },
  {
   "cell_type": "code",
   "execution_count": 16,
   "metadata": {},
   "outputs": [
    {
     "name": "stdout",
     "output_type": "stream",
     "text": [
      "\r",
      "  0%|          | 0/10 [00:00<?, ?it/s, best loss: ?]"
     ]
    },
    {
     "name": "stderr",
     "output_type": "stream",
     "text": [
      "C:\\Users\\NikitsinskayaH\\AppData\\Local\\Continuum\\anaconda3\\lib\\site-packages\\sklearn\\model_selection\\_split.py:2053: FutureWarning: You should specify a value for 'cv' instead of relying on the default value. The default value will change from 3 to 5 in version 0.22.\n",
      "  warnings.warn(CV_WARNING, FutureWarning)\n",
      "\n"
     ]
    },
    {
     "name": "stdout",
     "output_type": "stream",
     "text": [
      "new best:                                           \n",
      "0.6388059630862529                                  \n",
      "{'max_depth': 5, 'min_samples_leaf': 5}             \n",
      " 10%|█         | 1/10 [00:03<00:30,  3.39s/it, best loss: -0.6388059630862529]"
     ]
    },
    {
     "name": "stderr",
     "output_type": "stream",
     "text": [
      "C:\\Users\\NikitsinskayaH\\AppData\\Local\\Continuum\\anaconda3\\lib\\site-packages\\sklearn\\model_selection\\_split.py:2053: FutureWarning: You should specify a value for 'cv' instead of relying on the default value. The default value will change from 3 to 5 in version 0.22.\n",
      "  warnings.warn(CV_WARNING, FutureWarning)\n",
      "\n"
     ]
    },
    {
     "name": "stdout",
     "output_type": "stream",
     "text": [
      "new best:                                                                     \n",
      "0.6388059630862529                                                            \n",
      "{'max_depth': 5, 'min_samples_leaf': 3}                                       \n",
      " 20%|██        | 2/10 [00:06<00:27,  3.39s/it, best loss: -0.6388059630862529]"
     ]
    },
    {
     "name": "stderr",
     "output_type": "stream",
     "text": [
      "C:\\Users\\NikitsinskayaH\\AppData\\Local\\Continuum\\anaconda3\\lib\\site-packages\\sklearn\\model_selection\\_split.py:2053: FutureWarning: You should specify a value for 'cv' instead of relying on the default value. The default value will change from 3 to 5 in version 0.22.\n",
      "  warnings.warn(CV_WARNING, FutureWarning)\n",
      "\n"
     ]
    },
    {
     "name": "stdout",
     "output_type": "stream",
     "text": [
      "new best:                                                                     \n",
      "0.648468426571989                                                             \n",
      "{'max_depth': 7, 'min_samples_leaf': 3}                                       \n",
      " 30%|███       | 3/10 [00:11<00:26,  3.75s/it, best loss: -0.648468426571989] "
     ]
    },
    {
     "name": "stderr",
     "output_type": "stream",
     "text": [
      "C:\\Users\\NikitsinskayaH\\AppData\\Local\\Continuum\\anaconda3\\lib\\site-packages\\sklearn\\model_selection\\_split.py:2053: FutureWarning: You should specify a value for 'cv' instead of relying on the default value. The default value will change from 3 to 5 in version 0.22.\n",
      "  warnings.warn(CV_WARNING, FutureWarning)\n",
      "\n"
     ]
    },
    {
     "name": "stdout",
     "output_type": "stream",
     "text": [
      "new best:                                                                    \n",
      "0.648468426571989                                                            \n",
      "{'max_depth': 7, 'min_samples_leaf': 5}                                      \n",
      " 40%|████      | 4/10 [00:15<00:23,  3.97s/it, best loss: -0.648468426571989]"
     ]
    },
    {
     "name": "stderr",
     "output_type": "stream",
     "text": [
      "C:\\Users\\NikitsinskayaH\\AppData\\Local\\Continuum\\anaconda3\\lib\\site-packages\\sklearn\\model_selection\\_split.py:2053: FutureWarning: You should specify a value for 'cv' instead of relying on the default value. The default value will change from 3 to 5 in version 0.22.\n",
      "  warnings.warn(CV_WARNING, FutureWarning)\n",
      "\n"
     ]
    },
    {
     "name": "stdout",
     "output_type": "stream",
     "text": [
      "new best:                                                                    \n",
      "0.6562480117211505                                                           \n",
      "{'max_depth': 9, 'min_samples_leaf': 5}                                      \n",
      " 50%|█████     | 5/10 [00:21<00:22,  4.43s/it, best loss: -0.6562480117211505]"
     ]
    },
    {
     "name": "stderr",
     "output_type": "stream",
     "text": [
      "C:\\Users\\NikitsinskayaH\\AppData\\Local\\Continuum\\anaconda3\\lib\\site-packages\\sklearn\\model_selection\\_split.py:2053: FutureWarning: You should specify a value for 'cv' instead of relying on the default value. The default value will change from 3 to 5 in version 0.22.\n",
      "  warnings.warn(CV_WARNING, FutureWarning)\n",
      "\n"
     ]
    },
    {
     "name": "stdout",
     "output_type": "stream",
     "text": [
      "new best:                                                                     \n",
      "0.6562480117211505                                                            \n",
      "{'max_depth': 5, 'min_samples_leaf': 3}                                       \n",
      " 60%|██████    | 6/10 [00:24<00:16,  4.11s/it, best loss: -0.6562480117211505]"
     ]
    },
    {
     "name": "stderr",
     "output_type": "stream",
     "text": [
      "C:\\Users\\NikitsinskayaH\\AppData\\Local\\Continuum\\anaconda3\\lib\\site-packages\\sklearn\\model_selection\\_split.py:2053: FutureWarning: You should specify a value for 'cv' instead of relying on the default value. The default value will change from 3 to 5 in version 0.22.\n",
      "  warnings.warn(CV_WARNING, FutureWarning)\n",
      "\n"
     ]
    },
    {
     "name": "stdout",
     "output_type": "stream",
     "text": [
      "new best:                                                                     \n",
      "0.6562480117211505                                                            \n",
      "{'max_depth': 5, 'min_samples_leaf': 3}                                       \n",
      " 70%|███████   | 7/10 [00:28<00:11,  3.91s/it, best loss: -0.6562480117211505]"
     ]
    },
    {
     "name": "stderr",
     "output_type": "stream",
     "text": [
      "C:\\Users\\NikitsinskayaH\\AppData\\Local\\Continuum\\anaconda3\\lib\\site-packages\\sklearn\\model_selection\\_split.py:2053: FutureWarning: You should specify a value for 'cv' instead of relying on the default value. The default value will change from 3 to 5 in version 0.22.\n",
      "  warnings.warn(CV_WARNING, FutureWarning)\n",
      "\n"
     ]
    },
    {
     "name": "stdout",
     "output_type": "stream",
     "text": [
      "new best:                                                                     \n",
      "0.6562480117211505                                                            \n",
      "{'max_depth': 5, 'min_samples_leaf': 5}                                       \n",
      " 80%|████████  | 8/10 [00:31<00:07,  3.75s/it, best loss: -0.6562480117211505]"
     ]
    },
    {
     "name": "stderr",
     "output_type": "stream",
     "text": [
      "C:\\Users\\NikitsinskayaH\\AppData\\Local\\Continuum\\anaconda3\\lib\\site-packages\\sklearn\\model_selection\\_split.py:2053: FutureWarning: You should specify a value for 'cv' instead of relying on the default value. The default value will change from 3 to 5 in version 0.22.\n",
      "  warnings.warn(CV_WARNING, FutureWarning)\n",
      "\n"
     ]
    },
    {
     "name": "stdout",
     "output_type": "stream",
     "text": [
      "new best:                                                                     \n",
      "0.6562480117211505                                                            \n",
      "{'max_depth': 3, 'min_samples_leaf': 3}                                       \n",
      " 90%|█████████ | 9/10 [00:33<00:03,  3.33s/it, best loss: -0.6562480117211505]"
     ]
    },
    {
     "name": "stderr",
     "output_type": "stream",
     "text": [
      "C:\\Users\\NikitsinskayaH\\AppData\\Local\\Continuum\\anaconda3\\lib\\site-packages\\sklearn\\model_selection\\_split.py:2053: FutureWarning: You should specify a value for 'cv' instead of relying on the default value. The default value will change from 3 to 5 in version 0.22.\n",
      "  warnings.warn(CV_WARNING, FutureWarning)\n",
      "\n"
     ]
    },
    {
     "name": "stdout",
     "output_type": "stream",
     "text": [
      "new best:                                                                     \n",
      "0.6562480117211505                                                            \n",
      "{'max_depth': 3, 'min_samples_leaf': 3}                                       \n",
      "100%|██████████| 10/10 [00:36<00:00,  3.01s/it, best loss: -0.6562480117211505]\n",
      "best:\n",
      "{'max_depth': 3, 'min_samples_leaf': 1}\n"
     ]
    }
   ],
   "source": [
    "def acc_model(params):\n",
    "    clf = DecisionTreeClassifier(**params)\n",
    "    return cross_val_score(clf, X_train, y_train).mean()\n",
    "\n",
    "param_space = {\n",
    "    'max_depth': hp.choice('max_depth', [3, 5, 7, 9]),\n",
    "    'min_samples_leaf': hp.choice('min_samples_leaf', [3, 5])\n",
    "}\n",
    "\n",
    "best = 0\n",
    "def f(params):\n",
    "    global best\n",
    "    acc = acc_model(params)\n",
    "    if acc > best:\n",
    "        best = acc\n",
    "    print ('new best:', best, params)\n",
    "    return {'loss': -acc, 'status': STATUS_OK}\n",
    "\n",
    "trials = Trials()\n",
    "best = fmin(f, param_space, algo=tpe.suggest, max_evals=10, trials=trials)\n",
    "print ('best:')\n",
    "print (best)"
   ]
  },
  {
   "cell_type": "code",
   "execution_count": 11,
   "metadata": {},
   "outputs": [
    {
     "name": "stdout",
     "output_type": "stream",
     "text": [
      "Tree: \n",
      "Accuracy score: 0.6497327538838104\n",
      "Recall score: 0.6618860342837601\n",
      "Precision score: 0.8558202520451028\n",
      "Auc score: 0.6343866159663847\n"
     ]
    }
   ],
   "source": [
    "reg_tree = DecisionTreeClassifier(max_depth=9, min_samples_leaf=5, random_state=42)\n",
    "\n",
    "reg_tree.fit(X_train, y_train)\n",
    "preds = reg_tree.predict(X_test)\n",
    "\n",
    "print('Tree: ')\n",
    "print('Accuracy score: ' + str(metrics.accuracy_score(y_test, preds)))\n",
    "\n",
    "print('Recall score: ' + str(metrics.recall_score(y_test, preds)))\n",
    "\n",
    "print('Precision score: ' + str(metrics.precision_score(y_test, preds)))\n",
    "\n",
    "print('Auc score: ' + str(metrics.roc_auc_score(y_test, preds)))"
   ]
  },
  {
   "cell_type": "code",
   "execution_count": null,
   "metadata": {},
   "outputs": [
    {
     "name": "stdout",
     "output_type": "stream",
     "text": [
      "\r",
      "  0%|          | 0/3 [00:00<?, ?it/s, best loss: ?]"
     ]
    },
    {
     "name": "stderr",
     "output_type": "stream",
     "text": [
      "C:\\Users\\NikitsinskayaH\\AppData\\Local\\Continuum\\anaconda3\\lib\\site-packages\\sklearn\\model_selection\\_split.py:2053: FutureWarning: You should specify a value for 'cv' instead of relying on the default value. The default value will change from 3 to 5 in version 0.22.\n",
      "  warnings.warn(CV_WARNING, FutureWarning)\n",
      "\n"
     ]
    }
   ],
   "source": [
    "def acc_model(params):\n",
    "    clf = KNeighborsClassifier(**params)\n",
    "    return cross_val_score(clf, X_train, y_train).mean()\n",
    "\n",
    "param_space = {\n",
    "    'n_neighbors': hp.choice('n_neighbors', [3, 5, 7])\n",
    "}\n",
    "\n",
    "best = 0\n",
    "def f(params):\n",
    "    global best\n",
    "    acc = acc_model(params)\n",
    "    if acc > best:\n",
    "        best = acc\n",
    "    print ('new best:', best, params)\n",
    "    return {'loss': -acc, 'status': STATUS_OK}\n",
    "\n",
    "trials = Trials()\n",
    "best = fmin(f, param_space, algo=tpe.suggest, max_evals=3, trials=trials)\n",
    "print ('best:')\n",
    "print (best)"
   ]
  },
  {
   "cell_type": "code",
   "execution_count": null,
   "metadata": {},
   "outputs": [],
   "source": []
  },
  {
   "cell_type": "code",
   "execution_count": 23,
   "metadata": {},
   "outputs": [
    {
     "name": "stdout",
     "output_type": "stream",
     "text": [
      "XGB: \n",
      "Accuracy score: 0.6417070449739414\n",
      "Recall score: 0.6365579446843073\n",
      "Precision score: 0.8683811523209704\n",
      "Auc score: 0.6482088947293136\n"
     ]
    }
   ],
   "source": [
    "import xgboost as xgb\n",
    "\n",
    "\n",
    "xg_reg = xgb.XGBClassifier(max_depth = 4, n_estimators = 30)\n",
    "xg_reg.fit(X_train, y_train)\n",
    "preds = xg_reg.predict(X_test)\n",
    "\n",
    "print('XGB: ')\n",
    "print('Accuracy score: ' + str(metrics.accuracy_score(y_test, preds)))\n",
    "\n",
    "print('Recall score: ' + str(metrics.recall_score(y_test, preds)))\n",
    "\n",
    "print('Precision score: ' + str(metrics.precision_score(y_test, preds)))\n",
    "\n",
    "print('Auc score: ' + str(metrics.roc_auc_score(y_test, preds)))"
   ]
  },
  {
   "cell_type": "code",
   "execution_count": null,
   "metadata": {},
   "outputs": [],
   "source": []
  },
  {
   "cell_type": "code",
   "execution_count": null,
   "metadata": {},
   "outputs": [
    {
     "name": "stdout",
     "output_type": "stream",
     "text": [
      "Forest: \n"
     ]
    },
    {
     "data": {
      "image/png": "[encoded data removed]",
      "text/plain": [
       "<Figure size 576x576 with 1 Axes>"
      ]
     },
     "metadata": {
      "needs_background": "light"
     },
     "output_type": "display_data"
    },
    {
     "name": "stdout",
     "output_type": "stream",
     "text": [
      "Tree: \n"
     ]
    },
    {
     "data": {
      "image/png": "[encoded data removed]",
      "text/plain": [
       "<Figure size 576x576 with 1 Axes>"
      ]
     },
     "metadata": {
      "needs_background": "light"
     },
     "output_type": "display_data"
    },
    {
     "name": "stdout",
     "output_type": "stream",
     "text": [
      "L1: \n"
     ]
    },
    {
     "data": {
      "image/png": "[encoded data removed]",
      "text/plain": [
       "<Figure size 576x576 with 1 Axes>"
      ]
     },
     "metadata": {
      "needs_background": "light"
     },
     "output_type": "display_data"
    },
    {
     "name": "stdout",
     "output_type": "stream",
     "text": [
      "L2: \n"
     ]
    },
    {
     "data": {
      "image/png": "[encoded data removed]",
      "text/plain": [
       "<Figure size 576x576 with 1 Axes>"
      ]
     },
     "metadata": {
      "needs_background": "light"
     },
     "output_type": "display_data"
    },
    {
     "name": "stdout",
     "output_type": "stream",
     "text": [
      "XGB: \n"
     ]
    }
   ],
   "source": [
    "def calculate_score_on_dataset_and_show_graph(X_test, y_test, model):\n",
    "    import sklearn.metrics\n",
    "    import matplotlib.pylab as pl\n",
    "#     pl.style.use('ggplot')\n",
    "    preds = model.predict_proba(X_test)\n",
    "    preds = preds[:,1]\n",
    "    fpr, tpr, _ = metrics.roc_curve(y_test, preds)\n",
    "    auc = sklearn.metrics.auc(fpr, tpr)\n",
    "    \n",
    "    pl.figure(figsize=(8, 8,))\n",
    "    pl.plot(fpr, tpr)\n",
    "    pl.xlim([-0.1, 1.1])\n",
    "    pl.ylim([-0.1, 1.1])\n",
    "    pl.xlabel('FPR')\n",
    "    pl.ylabel('TPR')\n",
    "    pl.title('ROC curve (AUC={:.3f})'.format(auc))\n",
    "    pl.show()\n",
    "    \n",
    "    return auc\n",
    "print('Forest: ')\n",
    "calculate_score_on_dataset_and_show_graph(X_test, y_test, forest_tree)\n",
    "print('Tree: ')\n",
    "calculate_score_on_dataset_and_show_graph(X_test, y_test, reg_tree)\n",
    "print('L1: ')\n",
    "calculate_score_on_dataset_and_show_graph(X_test, y_test, model_l1)\n",
    "print('L2: ')\n",
    "calculate_score_on_dataset_and_show_graph(X_test, y_test, model_l2)\n",
    "print('XGB: ')\n",
    "calculate_score_on_dataset_and_show_graph(X_test, y_test, xg_reg)"
   ]
  },
  {
   "cell_type": "code",
   "execution_count": 18,
   "metadata": {},
   "outputs": [],
   "source": [
    "import operator \n",
    "\n",
    "\n",
    "def getNeighbors(X_train, y_train, X_test, k):\n",
    "    distances = []\n",
    "    length = len(X_test) \n",
    "    neighbors = []\n",
    "    i = 0\n",
    "    for x in X_train:\n",
    "        distance = np.linalg.norm(X_test - x)\n",
    "        distances.append((y_train[i], distance))\n",
    "        i += 1\n",
    "    distances.sort(key=operator.itemgetter(1))\n",
    "    for x in range(k):\n",
    "        neighbors.append(distances[x][0])\n",
    "    return neighbors"
   ]
  },
  {
   "cell_type": "code",
   "execution_count": 19,
   "metadata": {},
   "outputs": [],
   "source": [
    "def getResponse(neighbors):\n",
    "    classVotes = {}\n",
    "    for x in range(len(neighbors)):\n",
    "        response = neighbors[x]\n",
    "        if response in classVotes:\n",
    "            classVotes[response] += 1\n",
    "        else:\n",
    "            classVotes[response] = 1\n",
    "    sortedVotes = sorted(classVotes.items(), key = operator.itemgetter(1), reverse=True)\n",
    "    return sortedVotes"
   ]
  },
  {
   "cell_type": "code",
   "execution_count": null,
   "metadata": {},
   "outputs": [],
   "source": [
    "predictions = []\n",
    "k = 3\n",
    "X = numeric_data.drop(['loan_status', 'verification_status', 'zip_code', 'grade_le', 'sub_grade_le', 'emp_title_le', 'purpose_le'], axis=1)\n",
    "y = numeric_data['loan_status']\n",
    "X = scale(X)\n",
    "\n",
    "ros = RandomUnderSampler(random_state=0)\n",
    "X, y = ros.fit_resample(X, y)\n",
    "\n",
    "X_train, X_test, y_train, y_test = train_test_split(X, y, test_size=0.3, random_state=42)\n",
    "# X_train, X_test, y_train, y_test = train_test_split(X_train, y_train, test_size=0.3, random_state=42)\n",
    "\n",
    "print(len(X_test))\n",
    "\n",
    "i = 0\n",
    "for x in X_test:\n",
    "    neighbors = getNeighbors(X_train, y_train, x, k)\n",
    "    if neighbors is not None:\n",
    "        result = getResponse(neighbors)\n",
    "        predictions.append(result[0][0])\n",
    "#         print('predicted: ' + str(result))\n",
    "#         print('actual: ' + str(y_test[i]))\n",
    "#         print(len(predictions))\n",
    "        i += 1\n",
    "print('Own Knn: ')\n",
    "\n",
    "print('Recall score: ' + str(metrics.recall_score(y_test, predictions)))\n",
    "\n",
    "print('Precision score: ' + str(metrics.precision_score(y_test, predictions)))\n",
    "\n",
    "print('Auc score: ' + str(metrics.roc_auc_score(y_test, predictions)))"
   ]
  },
  {
   "cell_type": "code",
   "execution_count": null,
   "metadata": {},
   "outputs": [],
   "source": []
  }
 ],
 "metadata": {
  "kernelspec": {
   "display_name": "Python 3",
   "language": "python",
   "name": "python3"
  },
  "language_info": {
   "codemirror_mode": {
    "name": "ipython",
    "version": 3
   },
   "file_extension": ".py",
   "mimetype": "text/x-python",
   "name": "python",
   "nbconvert_exporter": "python",
   "pygments_lexer": "ipython3",
   "version": "3.7.1"
  }
 },
 "nbformat": 4,
 "nbformat_minor": 2
}
