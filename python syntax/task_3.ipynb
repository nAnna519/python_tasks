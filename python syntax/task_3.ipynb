{
 "cells": [
  {
   "cell_type": "markdown",
   "metadata": {},
   "source": [
    "<center>\n",
    "<img src=\"../img/python_theme.png\">\n",
    "# MLClass. \"Прикладной анализ данных\"\n",
    "# Модуль \"Инструментарий Data Science\"\n",
    "<img src=\"../img/mlclass_logo.jpg\" height=\"240\" width=\"240\">\n",
    "\n",
    "## Автор материала: Юрий Кашницкий, ФКН НИУ ВШЭ\n",
    "</center>\n",
    "Материал распространяется на условиях лицензии <a href=\"https://opensource.org/licenses/MS-RL\">Ms-RL</a>. Можно использовать в любых целях, кроме коммерческих, но с обязательным упоминанием автора материала."
   ]
  },
  {
   "cell_type": "code",
   "execution_count": 2,
   "metadata": {},
   "outputs": [],
   "source": [
    "# Python 2 and 3 compatibility\n",
    "# pip install future\n",
    "from __future__ import (absolute_import, division,\n",
    "                        print_function, unicode_literals)\n",
    "from builtins import *"
   ]
  },
  {
   "cell_type": "markdown",
   "metadata": {},
   "source": [
    "## Пьяница\n",
    "В игре в пьяницу карточная колода раздается поровну двум игрокам. Далее они вскрывают по одной верхней карте, и тот, чья карта старше, забирает себе обе вскрытые карты, которые кладутся под низ его колоды. Тот, кто остается без карт – проигрывает.\n",
    "\n",
    "Для простоты будем считать, что все карты различны по номиналу, а также, что самая младшая карта побеждает самую старшую карту (\"шестерка берет туза\").\n",
    "\n",
    "Игрок, который забирает себе карты, сначала кладет под низ своей колоды карту первого игрока, затем карту второго игрока (то есть карта второго игрока оказывается внизу колоды).\n",
    "\n",
    "Напишите программу, которая моделирует игру в пьяницу и определяет, кто выигрывает. В игре участвует 10 карт, имеющих значения от 0 до 9, большая карта побеждает меньшую, карта со значением 0 побеждает карту 9.\n",
    "\n",
    "**Входные данные**\n",
    "\n",
    "Программа получает на вход две строки: первая строка содержит 5 карт первого игрока, вторая – 5 карт второго игрока. Карты перечислены сверху вниз, то есть каждая строка начинается с той карты, которая будет открыта первой.\n",
    "\n",
    "**Выходные данные**\n",
    "\n",
    "Программа должна определить, кто выигрывает при данной раздаче, и вывести слово first или second, после чего вывести количество ходов, сделанных до выигрыша. Если на протяжении $10^6$ ходов игра не заканчивается, программа должна вывести слово botva."
   ]
  },
  {
   "cell_type": "code",
   "execution_count": 9,
   "metadata": {},
   "outputs": [
    {
     "name": "stdout",
     "output_type": "stream",
     "text": [
      "54321\n",
      "12345\n",
      "21\n",
      "second\n"
     ]
    }
   ],
   "source": [
    "def new_card(first, second, i):\n",
    "    second = second[i + 1:] + first[:i + 1] + second[:i + 1]\n",
    "    first = first[i + 1:]\n",
    "    return first, second\n",
    "\n",
    "\n",
    "def game(first, second):\n",
    "    step = 0\n",
    "    while step < 10**6:\n",
    "#         print(first)\n",
    "#         print(second)\n",
    "\n",
    "        if len(first) == 0:\n",
    "            print(step)\n",
    "            print('second')\n",
    "            return \n",
    "        elif len(second) == 0:\n",
    "            print(step)\n",
    "            print('first')\n",
    "            return \n",
    "\n",
    "        minimum = min(len(first), len(second))\n",
    "\n",
    "        for i in range(minimum):\n",
    "            step += 1\n",
    "\n",
    "            if first[i] == second[i]:\n",
    "                if minimum == i + 1:\n",
    "                    print('botva')\n",
    "                    return \n",
    "                continue\n",
    "\n",
    "            if first[i] == '0' and second[i] == '9':\n",
    "                first, second = new_card(first, second, i)\n",
    "            elif first[i] == '9' and second[i] == '0':\n",
    "                second, first = new_card(second, first, i)\n",
    "            elif first[i] > second[i]:\n",
    "                first, second = new_card(first, second, i)\n",
    "            elif first[i] < second[i]:\n",
    "                second, first = new_card(second, first, i)\n",
    "\n",
    "            break\n",
    "    print('botva')\n",
    "    return \n",
    "\n",
    "first = input()\n",
    "second = input()\n",
    "game(first, second)"
   ]
  },
  {
   "cell_type": "markdown",
   "metadata": {},
   "source": [
    "# Задачи к уроку 5\n",
    "http://informatics.mccme.ru/mod/statements/view.php?id=16625#1"
   ]
  },
  {
   "cell_type": "markdown",
   "metadata": {},
   "source": [
    "## Задача A\n",
    "Напишите функцию min4(a, b, c, d), вычисляющую минимум четырех чисел, которая не содержит инструкции if, а использует стандартную функцию min. Считайте четыре целых числа и выведите их минимум."
   ]
  },
  {
   "cell_type": "code",
   "execution_count": null,
   "metadata": {},
   "outputs": [],
   "source": [
    "def min4(a, b, c, d):\n",
    "    return min(a, b, c, d)\n",
    "\n",
    "\n",
    "a = input()\n",
    "b = input()\n",
    "c = input()\n",
    "d = input()\n",
    "\n",
    "print('\\nMinimum: ')\n",
    "print(min4(a, b, c, d))\n"
   ]
  },
  {
   "cell_type": "markdown",
   "metadata": {},
   "source": [
    "## Задача В\n",
    "Даны два действительных числа x и y. Проверьте, принадлежит ли точка с координатами (x;y) заштрихованному квадрату (включая его границу). Если точка принадлежит квадрату, выведите слово YES, иначе выведите слово NO. На рисунке сетка проведена с шагом 1.\n",
    "\n",
    "<img src=\"../img/task_5B.png\" height=\"240\" width=\"240\">\n",
    "Решение должно содержать функцию IsPointInSquare(x, y), возвращающую True, если точка принадлежит квадрату и False, если не принадлежит. Основная программа должна считать координаты точки, вызвать функцию IsPointInSquare и в зависимости от возвращенного значения вывести на экран необходимое сообщение.\n",
    "Функция IsPointInSquare не должна содержать инструкцию if."
   ]
  },
  {
   "cell_type": "code",
   "execution_count": 19,
   "metadata": {},
   "outputs": [
    {
     "name": "stdout",
     "output_type": "stream",
     "text": [
      "0.9\n",
      "0.11\n",
      "NO\n"
     ]
    }
   ],
   "source": [
    "import math\n",
    "\n",
    "\n",
    "def isPointInSquare(x, y):\n",
    "    if -1 <= x <=1 and -1 <= y <= 1:\n",
    "#         print((math.fabs(y)) / (1.000001 - math.fabs(x)))\n",
    "        return ((math.fabs(y)) / (1.00001 - math.fabs(x)) <= 1)\n",
    "    \n",
    "    return False\n",
    "\n",
    "x = float(input())\n",
    "y = float(input())\n",
    "\n",
    "if isPointInSquare(x, y):\n",
    "    print('YES')\n",
    "else:\n",
    "    print('NO')\n"
   ]
  },
  {
   "cell_type": "markdown",
   "metadata": {},
   "source": [
    "## Задача С\n",
    "Дано действительное положительное число a и целое неотрицательное число n. Вычислите $a^n$ не используя циклы и стандартную функцию pow, а используя рекуррентное соотношение $a^n=a*a^{n-1}$.\n",
    "\n",
    "Решение оформите в виде функции power(a, n)."
   ]
  },
  {
   "cell_type": "code",
   "execution_count": null,
   "metadata": {},
   "outputs": [],
   "source": [
    "def power(a, n):\n",
    "    if n == 0:\n",
    "        return 1\n",
    "    return a * power(a, n - 1)\n",
    "\n",
    "print(power(2, 10))"
   ]
  },
  {
   "cell_type": "markdown",
   "metadata": {},
   "source": [
    "## Задача D\n",
    "Дано натуральное число n>1. Проверьте, является ли оно простым. Программа должна вывести слово YES, если число простое и NO, если число составное.\n",
    "\n",
    "Решение оформите в виде функции IsPrime(n), которая возвращает True для простых чисел и False для составных чисел. Решение должно иметь сложность O($\\sqrt{n}$)."
   ]
  },
  {
   "cell_type": "code",
   "execution_count": 4,
   "metadata": {},
   "outputs": [
    {
     "name": "stdout",
     "output_type": "stream",
     "text": [
      "1\n",
      "NO\n"
     ]
    }
   ],
   "source": [
    "def isPrime(n):\n",
    "    if n <= 1:\n",
    "        return False\n",
    "    for number in range(2, int(math.sqrt(n) + 1)):\n",
    "        if not n % number:\n",
    "            return False\n",
    "\n",
    "    return True\n",
    "\n",
    "n = int(input())\n",
    "if isPrime(n):\n",
    "    print('YES')\n",
    "else:\n",
    "    print('NO')\n",
    "        \n"
   ]
  },
  {
   "cell_type": "markdown",
   "metadata": {},
   "source": [
    "## Задача E\n",
    "По данным числам n и k ($0 \\leq k \\leq n$) вычислите $С^k_n$ . Для решения используйте рекуррентное соотношение $С^k_n = С_{n-1}^{k-1} + С_{n-1}^{k}$.\n",
    "\n",
    "Решение оформите в виде функции C(n, k).\n"
   ]
  },
  {
   "cell_type": "code",
   "execution_count": null,
   "metadata": {},
   "outputs": [],
   "source": [
    "def C(n, k):\n",
    "    if k == 0:\n",
    "        return 1\n",
    "    if k > n:\n",
    "        return 0\n",
    "    return C(n - 1, k - 1) + C(n - 1, k)\n",
    "\n",
    "n = 6\n",
    "k = 3\n",
    "print(C(n, k))"
   ]
  },
  {
   "cell_type": "markdown",
   "metadata": {},
   "source": [
    "# Задача F\n",
    "Напишите рекурсивную функцию sum(a, b), возвращающую сумму двух целых неотрицательных чисел. Из всех арифметических операций допускаются только +1 и -1. Также нельзя использовать циклы.\n",
    "\n"
   ]
  },
  {
   "cell_type": "code",
   "execution_count": null,
   "metadata": {},
   "outputs": [],
   "source": [
    "def sum(a, b):\n",
    "    if a == 0:\n",
    "        return b\n",
    "    else:\n",
    "        return sum(a - 1, b + 1)\n",
    "a = input()\n",
    "b = input()\n",
    "\n",
    "summa = sum(a, b)\n",
    "print(summa)"
   ]
  },
  {
   "cell_type": "markdown",
   "metadata": {},
   "source": [
    "## Задача G\n",
    "Дано натуральное число N и последовательность из N элементов. Требуется вывести эту последовательность в обратном порядке.\n",
    "В программе запрещается объявлять массивы и использовать циклы (даже для ввода и вывода)."
   ]
  },
  {
   "cell_type": "code",
   "execution_count": null,
   "metadata": {},
   "outputs": [],
   "source": [
    "string = input()\n",
    "print(''.join(reversed(string)))"
   ]
  },
  {
   "cell_type": "code",
   "execution_count": null,
   "metadata": {},
   "outputs": [],
   "source": []
  }
 ],
 "metadata": {
  "kernelspec": {
   "display_name": "Python 3",
   "language": "python",
   "name": "python3"
  },
  "language_info": {
   "codemirror_mode": {
    "name": "ipython",
    "version": 3
   },
   "file_extension": ".py",
   "mimetype": "text/x-python",
   "name": "python",
   "nbconvert_exporter": "python",
   "pygments_lexer": "ipython3",
   "version": "3.7.1"
  }
 },
 "nbformat": 4,
 "nbformat_minor": 1
}
