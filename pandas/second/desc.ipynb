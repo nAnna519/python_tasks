{
 "cells": [
  {
   "cell_type": "markdown",
   "metadata": {},
   "source": [
    "* Installment распределено логарифмически.\n",
    "* Int rate нормально распределено.\n"
   ]
  },
  {
   "cell_type": "markdown",
   "metadata": {},
   "source": [
    "* Количество берущих кредиты на 60 месяцев составляет треть от числа кредитов, расчитанных на 36 месяцев."
   ]
  },
  {
   "cell_type": "markdown",
   "metadata": {},
   "source": [
    "* Большинство кредитов было оформлено в таких штатах, как Калифорния, Техас, Флорида и Нью-Йорк."
   ]
  },
  {
   "cell_type": "markdown",
   "metadata": {},
   "source": [
    "* Большинство кредитов берут учителя, медсестры, менеджеры, руководители."
   ]
  },
  {
   "cell_type": "markdown",
   "metadata": {},
   "source": [
    "* Ежемесячная выплата связана с суммой кредита, что логично.\n",
    "* Кредитный оборотный остаток связан с кредитным лимитом."
   ]
  },
  {
   "cell_type": "markdown",
   "metadata": {},
   "source": [
    "* Наибольшие кредиты в группе G.\n",
    "* Наименьшие кредиты в группе B."
   ]
  },
  {
   "cell_type": "code",
   "execution_count": null,
   "metadata": {},
   "outputs": [],
   "source": []
  }
 ],
 "metadata": {
  "kernelspec": {
   "display_name": "Python 3",
   "language": "python",
   "name": "python3"
  },
  "language_info": {
   "codemirror_mode": {
    "name": "ipython",
    "version": 3
   },
   "file_extension": ".py",
   "mimetype": "text/x-python",
   "name": "python",
   "nbconvert_exporter": "python",
   "pygments_lexer": "ipython3",
   "version": "3.7.1"
  }
 },
 "nbformat": 4,
 "nbformat_minor": 2
}
