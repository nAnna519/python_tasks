{
 "cells": [
  {
   "cell_type": "code",
   "execution_count": 1,
   "metadata": {},
   "outputs": [],
   "source": [
    "import pandas as pd\n",
    "import numpy as np\n",
    "import matplotlib.pyplot as plt\n",
    "%matplotlib inline\n"
   ]
  },
  {
   "cell_type": "code",
   "execution_count": 2,
   "metadata": {},
   "outputs": [
    {
     "data": {
      "text/plain": [
       "Verified           73431\n",
       "Not Verified       66943\n",
       "Source Verified    59815\n",
       "Name: verification_status, dtype: int64"
      ]
     },
     "execution_count": 2,
     "metadata": {},
     "output_type": "execute_result"
    }
   ],
   "source": [
    "data = pd.read_csv('train.csv')\n",
    "\n",
    "numeric_data = data.drop(['record_id', 'earliest_cr_line', 'issue_d', 'zip_code', 'policy_code'], axis=1)\n",
    "# numeric_data = numeric_data.sort_values(['emp_length'])\n",
    "numeric_data['term'] = pd.factorize(numeric_data['term'])[0]\n",
    "numeric_data['emp_length'] = numeric_data['emp_length'].map({'< 1 year': 0, '1 year':1, '2 years':2,  '3 years':3,  '4 years':4,  '5 years':5,  '6 years':6,  '7 years':7,  '8 years':8,  '9 years':9,  '10+ years': 10})\n",
    "numeric_data['emp_length'].fillna(0, inplace=True)\n",
    "\n",
    "numeric_data['verification_status'] = numeric_data['verification_status'].map({'Not Verified': 0, 'Verified': 1, 'Source Verified': 2})\n",
    "\n",
    "numeric_data['emp_title'].fillna('0', inplace=True)\n",
    "\n",
    "numeric_data['mths_since_last_delinq'].fillna(numeric_data['mths_since_last_delinq'].notnull().mean(), inplace=True)\n",
    "numeric_data['collections_12_mths_ex_med'].fillna(numeric_data['collections_12_mths_ex_med'].notnull().mean(), inplace=True)\n",
    "numeric_data['revol_util'].fillna(numeric_data['revol_util'].notnull().mean(), inplace=True)\n",
    "numeric_data['application_type'] = pd.factorize(numeric_data['application_type'])[0]\n",
    "numeric_data['initial_list_status'] = pd.factorize(numeric_data['initial_list_status'])[0]\n",
    "numeric_data['addr_state'] = pd.factorize(numeric_data['addr_state'])[0]\n",
    "\n",
    "numeric_data['tot_coll_amt'].fillna(numeric_data['tot_coll_amt'].notnull().max(), inplace=True)\n",
    "numeric_data['tot_cur_bal'].fillna(numeric_data['tot_cur_bal'].notnull().max(), inplace=True)\n",
    "numeric_data['total_rev_hi_lim'].fillna(numeric_data['total_rev_hi_lim'].notnull().max(), inplace=True)\n",
    "\n",
    "data['verification_status'].value_counts()"
   ]
  },
  {
   "cell_type": "code",
   "execution_count": 3,
   "metadata": {},
   "outputs": [],
   "source": [
    "from sklearn.preprocessing import LabelEncoder, OneHotEncoder\n",
    "# numeric_data[numeric_data['loan_status'] > 0.5] = 1  \n",
    "le = LabelEncoder()\n",
    "# print(str(numeric_data['grade'].values))\n",
    "numeric_data[numeric_data['grade'] == 0] = '0'\n",
    "le.fit(numeric_data.grade.astype(str))\n",
    "# print(le.classes_)\n",
    "# numeric_data.info()\n",
    "numeric_data['grade_le'] = le.transform((numeric_data['grade'].values))\n",
    "\n",
    "le.fit(numeric_data.sub_grade.astype(str))\n",
    "numeric_data['sub_grade_le'] = le.transform(numeric_data['sub_grade'].values)\n",
    "\n",
    "le.fit(numeric_data.emp_title.astype(str))\n",
    "numeric_data['emp_title_le'] = le.transform(numeric_data['emp_title'].values)\n",
    "\n",
    "# le.fit(numeric_data.addr_state.astype(str))\n",
    "# numeric_data['addr_state_le'] = le.transform(numeric_data['addr_state'].values)\n",
    "\n",
    "le.fit(numeric_data.pymnt_plan.astype(str))\n",
    "numeric_data['pymnt_plan_le'] = le.transform(numeric_data['pymnt_plan'].values)\n",
    "\n",
    "le.fit(numeric_data.purpose.astype(str))\n",
    "numeric_data['purpose_le'] = le.transform(numeric_data['purpose'].values)\n",
    "\n",
    "ohe = OneHotEncoder()\n",
    "new_ohe_features = ohe.fit(numeric_data.home_ownership.values.reshape(-1, 1))\n",
    "data['home_ownership_ohe'] = ohe.transform(numeric_data.home_ownership.values.reshape(-1, 1))\n",
    "\n",
    "numeric_data = numeric_data.drop(['grade', 'sub_grade',  'purpose', 'emp_title', 'pymnt_plan', 'home_ownership'], axis=1)\n",
    "\n"
   ]
  },
  {
   "cell_type": "code",
   "execution_count": 5,
   "metadata": {},
   "outputs": [],
   "source": [
    "X = numeric_data.drop(['loan_status'], axis=1)\n",
    "y = numeric_data['loan_status']\n",
    "# numeric_data['loan_status'].value_counts()\n",
    "\n",
    "from imblearn.over_sampling import RandomOverSampler\n",
    "ros = RandomOverSampler(random_state=0)\n",
    "X, y = ros.fit_resample(X, y)\n",
    "# y"
   ]
  },
  {
   "cell_type": "code",
   "execution_count": 6,
   "metadata": {},
   "outputs": [],
   "source": [
    "from sklearn.linear_model import LogisticRegression, Lasso, Ridge\n",
    "from sklearn.model_selection import train_test_split\n",
    "\n",
    "model_l1 = LogisticRegression(penalty='l1')\n",
    "model_l2 = LogisticRegression(penalty='l2')\n",
    "X_train, X_test, y_train, y_test = train_test_split(X, y, test_size=0.3, random_state=42)"
   ]
  },
  {
   "cell_type": "code",
   "execution_count": 8,
   "metadata": {},
   "outputs": [
    {
     "name": "stderr",
     "output_type": "stream",
     "text": [
      "C:\\Users\\NikitsinskayaH\\AppData\\Local\\Continuum\\anaconda3\\lib\\site-packages\\sklearn\\linear_model\\logistic.py:433: FutureWarning: Default solver will be changed to 'lbfgs' in 0.22. Specify a solver to silence this warning.\n",
      "  FutureWarning)\n",
      "C:\\Users\\NikitsinskayaH\\AppData\\Local\\Continuum\\anaconda3\\lib\\site-packages\\sklearn\\linear_model\\logistic.py:433: FutureWarning: Default solver will be changed to 'lbfgs' in 0.22. Specify a solver to silence this warning.\n",
      "  FutureWarning)\n"
     ]
    },
    {
     "data": {
      "text/plain": [
       "LogisticRegression(C=1.0, class_weight=None, dual=False, fit_intercept=True,\n",
       "          intercept_scaling=1, max_iter=100, multi_class='warn',\n",
       "          n_jobs=None, penalty='l2', random_state=None, solver='warn',\n",
       "          tol=0.0001, verbose=0, warm_start=False)"
      ]
     },
     "execution_count": 8,
     "metadata": {},
     "output_type": "execute_result"
    }
   ],
   "source": [
    "model_l1.fit(X_train, y_train)\n",
    "model_l2.fit(X_train, y_train)"
   ]
  },
  {
   "cell_type": "code",
   "execution_count": 9,
   "metadata": {},
   "outputs": [],
   "source": [
    "preds_l1 = model_l1.predict(X_test)\n",
    "preds_l2 = model_l2.predict(X_test)"
   ]
  },
  {
   "cell_type": "code",
   "execution_count": 10,
   "metadata": {},
   "outputs": [
    {
     "name": "stdout",
     "output_type": "stream",
     "text": [
      "[0 1 1 ... 1 1 1]\n"
     ]
    }
   ],
   "source": [
    "from sklearn import metrics\n",
    "\n",
    "\n",
    "preds = model_l1.predict(X_test)\n",
    "print(preds)\n",
    "conf_matrix = metrics.confusion_matrix(y_test, preds)\n",
    "conf_matrix = pd.DataFrame(conf_matrix, index=model_l1.classes_)"
   ]
  },
  {
   "cell_type": "code",
   "execution_count": 11,
   "metadata": {},
   "outputs": [
    {
     "data": {
      "text/html": [
       "<div>\n",
       "<style scoped>\n",
       "    .dataframe tbody tr th:only-of-type {\n",
       "        vertical-align: middle;\n",
       "    }\n",
       "\n",
       "    .dataframe tbody tr th {\n",
       "        vertical-align: top;\n",
       "    }\n",
       "\n",
       "    .dataframe thead th {\n",
       "        text-align: right;\n",
       "    }\n",
       "</style>\n",
       "<table border=\"1\" class=\"dataframe\">\n",
       "  <thead>\n",
       "    <tr style=\"text-align: right;\">\n",
       "      <th></th>\n",
       "      <th>0</th>\n",
       "      <th>1</th>\n",
       "    </tr>\n",
       "  </thead>\n",
       "  <tbody>\n",
       "    <tr>\n",
       "      <th>0</th>\n",
       "      <td>29852</td>\n",
       "      <td>16781</td>\n",
       "    </tr>\n",
       "    <tr>\n",
       "      <th>1</th>\n",
       "      <td>15916</td>\n",
       "      <td>30848</td>\n",
       "    </tr>\n",
       "  </tbody>\n",
       "</table>\n",
       "</div>"
      ],
      "text/plain": [
       "       0      1\n",
       "0  29852  16781\n",
       "1  15916  30848"
      ]
     },
     "execution_count": 11,
     "metadata": {},
     "output_type": "execute_result"
    }
   ],
   "source": [
    "conf_matrix"
   ]
  },
  {
   "cell_type": "code",
   "execution_count": 12,
   "metadata": {},
   "outputs": [],
   "source": [
    "preds = model_l2.predict(X_test)\n",
    "\n",
    "conf_matrix = metrics.confusion_matrix(y_test, preds)\n",
    "conf_matrix = pd.DataFrame(conf_matrix, index=model_l2.classes_)"
   ]
  },
  {
   "cell_type": "code",
   "execution_count": 13,
   "metadata": {},
   "outputs": [
    {
     "data": {
      "text/html": [
       "<div>\n",
       "<style scoped>\n",
       "    .dataframe tbody tr th:only-of-type {\n",
       "        vertical-align: middle;\n",
       "    }\n",
       "\n",
       "    .dataframe tbody tr th {\n",
       "        vertical-align: top;\n",
       "    }\n",
       "\n",
       "    .dataframe thead th {\n",
       "        text-align: right;\n",
       "    }\n",
       "</style>\n",
       "<table border=\"1\" class=\"dataframe\">\n",
       "  <thead>\n",
       "    <tr style=\"text-align: right;\">\n",
       "      <th></th>\n",
       "      <th>0</th>\n",
       "      <th>1</th>\n",
       "    </tr>\n",
       "  </thead>\n",
       "  <tbody>\n",
       "    <tr>\n",
       "      <th>0</th>\n",
       "      <td>30557</td>\n",
       "      <td>16076</td>\n",
       "    </tr>\n",
       "    <tr>\n",
       "      <th>1</th>\n",
       "      <td>17087</td>\n",
       "      <td>29677</td>\n",
       "    </tr>\n",
       "  </tbody>\n",
       "</table>\n",
       "</div>"
      ],
      "text/plain": [
       "       0      1\n",
       "0  30557  16076\n",
       "1  17087  29677"
      ]
     },
     "execution_count": 13,
     "metadata": {},
     "output_type": "execute_result"
    }
   ],
   "source": [
    "conf_matrix"
   ]
  },
  {
   "cell_type": "code",
   "execution_count": 14,
   "metadata": {},
   "outputs": [
    {
     "name": "stdout",
     "output_type": "stream",
     "text": [
      "[[0.59169581 0.40830419]\n",
      " [0.25376279 0.74623721]\n",
      " [0.37198817 0.62801183]\n",
      " ...\n",
      " [0.37159714 0.62840286]\n",
      " [0.23274817 0.76725183]\n",
      " [0.27597778 0.72402222]]\n"
     ]
    }
   ],
   "source": [
    "pred_prob_l1 = model_l1.predict_proba(X_test)\n",
    "preds = pred_prob_l1[:,1]\n",
    "fpr, tpr, threshold = metrics.roc_curve(y_test, preds)\n",
    "roc_auc = metrics.auc(fpr, tpr)\n",
    "print(pred_prob_l1)"
   ]
  },
  {
   "cell_type": "code",
   "execution_count": 15,
   "metadata": {},
   "outputs": [
    {
     "name": "stdout",
     "output_type": "stream",
     "text": [
      "0.7045016757323641\n",
      "0.6927572540726039\n"
     ]
    },
    {
     "data": {
      "image/png": "[encoded data removed]",
      "text/plain": [
       "<Figure size 432x288 with 1 Axes>"
      ]
     },
     "metadata": {
      "needs_background": "light"
     },
     "output_type": "display_data"
    }
   ],
   "source": [
    "print(roc_auc)\n",
    "plt.plot(fpr, tpr, 'g')\n",
    "pred_prob_l2 = model_l2.predict_proba(X_test)\n",
    "preds = pred_prob_l2[:,1]\n",
    "fpr, tpr, threshold = metrics.roc_curve(y_test, preds)\n",
    "roc_auc = metrics.auc(fpr, tpr)\n",
    "print(roc_auc)\n",
    "plt.plot(fpr, tpr, 'b')\n",
    "plt.show()"
   ]
  },
  {
   "cell_type": "code",
   "execution_count": null,
   "metadata": {},
   "outputs": [],
   "source": []
  }
 ],
 "metadata": {
  "kernelspec": {
   "display_name": "Python 3",
   "language": "python",
   "name": "python3"
  },
  "language_info": {
   "codemirror_mode": {
    "name": "ipython",
    "version": 3
   },
   "file_extension": ".py",
   "mimetype": "text/x-python",
   "name": "python",
   "nbconvert_exporter": "python",
   "pygments_lexer": "ipython3",
   "version": "3.7.1"
  }
 },
 "nbformat": 4,
 "nbformat_minor": 2
}
