{
 "cells": [
  {
   "cell_type": "code",
   "execution_count": 1,
   "metadata": {},
   "outputs": [],
   "source": [
    "import pandas as pd\n",
    "import numpy as np\n",
    "import matplotlib.pyplot as plt\n",
    "%matplotlib inline"
   ]
  },
  {
   "cell_type": "code",
   "execution_count": 2,
   "metadata": {},
   "outputs": [],
   "source": [
    "data = pd.read_csv('train.csv')\n",
    "\n",
    "\n",
    "numeric_data = data.drop(['record_id'], axis=1)\n",
    "# numeric_data = numeric_data.sort_values(['emp_length'])\n",
    "numeric_data['term'] = pd.factorize(numeric_data['term'])[0]\n",
    "\n",
    "numeric_data['emp_length'] = numeric_data['emp_length'].map({'< 1 year': 1, '1 year': 2, '2 years': 3,  '3 years': 4,  '4 years': 5,  '5 years': 6,  '6 years': 7,  '7 years': 8,  '8 years': 9,  '9 years': 10,  '10+ years': 11})\n",
    "numeric_data['emp_length'].fillna(0, inplace=True)\n",
    "\n",
    "numeric_data['verification_status'] = numeric_data['verification_status'].map({'Not Verified': 0, 'Verified': 1, 'Source Verified': 2})\n",
    "\n",
    "numeric_data['emp_title'].fillna('0', inplace=True)\n",
    "\n",
    "numeric_data['mths_since_last_delinq'].fillna(numeric_data['mths_since_last_delinq'].notnull().min(), inplace=True)\n",
    "\n",
    "numeric_data['collections_12_mths_ex_med'].fillna(numeric_data['collections_12_mths_ex_med'].notnull().max(), inplace=True)\n",
    "\n",
    "numeric_data['revol_util'].fillna(numeric_data['revol_util'].notnull().mean(), inplace=True)\n",
    "\n",
    "numeric_data['application_type'] = pd.factorize(numeric_data['application_type'])[0]\n",
    "\n",
    "numeric_data['initial_list_status'] = pd.factorize(numeric_data['initial_list_status'])[0]\n",
    "\n",
    "numeric_data['addr_state'] = pd.factorize(numeric_data['addr_state'])[0]\n",
    "\n",
    "numeric_data['tot_coll_amt'].fillna(numeric_data['tot_coll_amt'].notnull().min(), inplace=True)\n",
    "\n",
    "numeric_data['tot_cur_bal'].fillna(numeric_data['tot_cur_bal'].notnull().min(), inplace=True)\n",
    "\n",
    "numeric_data['total_rev_hi_lim'].fillna(numeric_data['total_rev_hi_lim'].notnull().min(), inplace=True)\n",
    "\n",
    "numeric_data['zip_code'] = (numeric_data['zip_code'].str[:3])"
   ]
  },
  {
   "cell_type": "code",
   "execution_count": 3,
   "metadata": {},
   "outputs": [],
   "source": [
    "def month_to_decimal(month):\n",
    "    month_dict = {'Jan':0, 'Feb':1/12., 'Mar':2/12., 'Apr':3/12., 'May':4/12., 'Jun':5/12., \n",
    "     'Jul':6/12., 'Aug':7/12., 'Sep':8/12., 'Oct':9/12., 'Nov':10/12., 'Dec':11/12.}\n",
    "    return month_dict[month]\n",
    "\n",
    "def convert_date(month_year):\n",
    "    month_and_year = month_year.split('-')\n",
    "    return float(month_and_year[1]) + month_to_decimal(month_and_year[0])\n",
    "\n",
    "numeric_data['issue_d'] = numeric_data['issue_d'].map(convert_date)\n",
    "numeric_data['earliest_cr_line'] = numeric_data['earliest_cr_line'].map(convert_date)"
   ]
  },
  {
   "cell_type": "code",
   "execution_count": 4,
   "metadata": {},
   "outputs": [],
   "source": [
    "from sklearn.preprocessing import LabelEncoder, OneHotEncoder, scale\n",
    "\n",
    "\n",
    "le = LabelEncoder()\n",
    "# print(str(numeric_data['grade'].values))\n",
    "numeric_data[numeric_data['grade'] == 0] = '0'\n",
    "le.fit(numeric_data.grade.astype(str))\n",
    "# print(le.classes_)\n",
    "# numeric_data.info()\n",
    "numeric_data['grade_le'] = le.transform((numeric_data['grade'].values))\n",
    "\n",
    "le.fit(numeric_data.sub_grade.astype(str))\n",
    "numeric_data['sub_grade_le'] = le.transform(numeric_data['sub_grade'].values)\n",
    "\n",
    "le.fit(numeric_data.emp_title.astype(str))\n",
    "numeric_data['emp_title_le'] = le.transform(numeric_data['emp_title'].values)\n",
    "\n",
    "# le.fit(numeric_data.addr_state.astype(str))\n",
    "# numeric_data['addr_state_le'] = le.transform(numeric_data['addr_state'].values)\n",
    "\n",
    "le.fit(numeric_data.pymnt_plan.astype(str))\n",
    "numeric_data['pymnt_plan_le'] = le.transform(numeric_data['pymnt_plan'].values)\n",
    "\n",
    "le.fit(numeric_data.purpose.astype(str))\n",
    "numeric_data['purpose_le'] = le.transform(numeric_data['purpose'].values)\n",
    "\n",
    "ohe = OneHotEncoder()\n",
    "new_ohe_features = ohe.fit(numeric_data.home_ownership.values.reshape(-1, 1))\n",
    "data['home_ownership_ohe'] = ohe.transform(numeric_data.home_ownership.values.reshape(-1, 1))\n",
    "\n",
    "numeric_data = numeric_data.drop(['grade', 'sub_grade',  'purpose', 'emp_title', 'pymnt_plan', 'home_ownership'], axis=1)"
   ]
  },
  {
   "cell_type": "code",
   "execution_count": 5,
   "metadata": {},
   "outputs": [
    {
     "name": "stderr",
     "output_type": "stream",
     "text": [
      "/home/anna/.local/lib/python3.6/site-packages/ipykernel_launcher.py:4: DataConversionWarning: Data with input dtype int64, object were all converted to float64 by the scale function.\n",
      "  after removing the cwd from sys.path.\n"
     ]
    }
   ],
   "source": [
    "X = numeric_data.drop(['loan_status'], axis=1)\n",
    "y = numeric_data['loan_status']\n",
    "# type(numeric_data['zip_code'].astype(int))\n",
    "X = scale(X)\n",
    "\n",
    "from imblearn.over_sampling import RandomOverSampler\n",
    "ros = RandomOverSampler(random_state=0)\n",
    "X, y = ros.fit_resample(X, y)\n"
   ]
  },
  {
   "cell_type": "code",
   "execution_count": 6,
   "metadata": {},
   "outputs": [],
   "source": [
    "from sklearn.linear_model import LogisticRegression, Lasso, Ridge\n",
    "from sklearn.model_selection import train_test_split\n",
    "\n",
    "model_l1 = LogisticRegression(penalty='l1', random_state=42)\n",
    "model_l2 = LogisticRegression(penalty='l2', random_state=42)\n",
    "X_train, X_test, y_train, y_test = train_test_split(X, y, test_size=0.3, random_state=42)"
   ]
  },
  {
   "cell_type": "code",
   "execution_count": 7,
   "metadata": {},
   "outputs": [
    {
     "name": "stderr",
     "output_type": "stream",
     "text": [
      "/home/anna/.local/lib/python3.6/site-packages/sklearn/linear_model/logistic.py:433: FutureWarning: Default solver will be changed to 'lbfgs' in 0.22. Specify a solver to silence this warning.\n",
      "  FutureWarning)\n",
      "/home/anna/.local/lib/python3.6/site-packages/sklearn/linear_model/logistic.py:433: FutureWarning: Default solver will be changed to 'lbfgs' in 0.22. Specify a solver to silence this warning.\n",
      "  FutureWarning)\n"
     ]
    },
    {
     "data": {
      "text/plain": [
       "LogisticRegression(C=1.0, class_weight=None, dual=False, fit_intercept=True,\n",
       "          intercept_scaling=1, max_iter=100, multi_class='warn',\n",
       "          n_jobs=None, penalty='l2', random_state=42, solver='warn',\n",
       "          tol=0.0001, verbose=0, warm_start=False)"
      ]
     },
     "execution_count": 7,
     "metadata": {},
     "output_type": "execute_result"
    }
   ],
   "source": [
    "model_l1.fit(X_train, y_train)\n",
    "model_l2.fit(X_train, y_train)"
   ]
  },
  {
   "cell_type": "code",
   "execution_count": 8,
   "metadata": {},
   "outputs": [],
   "source": [
    "preds_l1 = model_l1.predict(X_test)\n",
    "preds_l2 = model_l2.predict(X_test)"
   ]
  },
  {
   "cell_type": "code",
   "execution_count": 9,
   "metadata": {},
   "outputs": [
    {
     "name": "stdout",
     "output_type": "stream",
     "text": [
      "l1: \n",
      "Accuracy score: 0.6558883047635363\n",
      "Recall score: 0.6614917457873578\n",
      "Precision score: 0.6547848358486972\n",
      "Roc auc score: 0.6558804342558046\n"
     ]
    }
   ],
   "source": [
    "from sklearn import metrics\n",
    "\n",
    "\n",
    "preds = model_l1.predict(X_test)\n",
    "# print(preds)\n",
    "conf_matrix = metrics.confusion_matrix(y_test, preds)\n",
    "conf_matrix = pd.DataFrame(conf_matrix, index=model_l1.classes_)\n",
    "print('l1: ')\n",
    "print('Accuracy score: ' + str(metrics.accuracy_score(y_test, preds)))\n",
    "\n",
    "print('Recall score: ' + str(metrics.recall_score(y_test, preds)))\n",
    "\n",
    "print('Precision score: ' + str(metrics.precision_score(y_test, preds)))\n",
    "\n",
    "print('Roc auc score: ' + str(metrics.roc_auc_score(y_test, preds)))"
   ]
  },
  {
   "cell_type": "code",
   "execution_count": 10,
   "metadata": {},
   "outputs": [
    {
     "data": {
      "text/html": [
       "<div>\n",
       "<style scoped>\n",
       "    .dataframe tbody tr th:only-of-type {\n",
       "        vertical-align: middle;\n",
       "    }\n",
       "\n",
       "    .dataframe tbody tr th {\n",
       "        vertical-align: top;\n",
       "    }\n",
       "\n",
       "    .dataframe thead th {\n",
       "        text-align: right;\n",
       "    }\n",
       "</style>\n",
       "<table border=\"1\" class=\"dataframe\">\n",
       "  <thead>\n",
       "    <tr style=\"text-align: right;\">\n",
       "      <th></th>\n",
       "      <th>0</th>\n",
       "      <th>1</th>\n",
       "    </tr>\n",
       "  </thead>\n",
       "  <tbody>\n",
       "    <tr>\n",
       "      <th>0</th>\n",
       "      <td>30324</td>\n",
       "      <td>16309</td>\n",
       "    </tr>\n",
       "    <tr>\n",
       "      <th>1</th>\n",
       "      <td>15830</td>\n",
       "      <td>30934</td>\n",
       "    </tr>\n",
       "  </tbody>\n",
       "</table>\n",
       "</div>"
      ],
      "text/plain": [
       "       0      1\n",
       "0  30324  16309\n",
       "1  15830  30934"
      ]
     },
     "execution_count": 10,
     "metadata": {},
     "output_type": "execute_result"
    }
   ],
   "source": [
    "conf_matrix"
   ]
  },
  {
   "cell_type": "code",
   "execution_count": 11,
   "metadata": {},
   "outputs": [
    {
     "name": "stdout",
     "output_type": "stream",
     "text": [
      "l2: \n",
      "Accuracy score: 0.6558240628713985\n",
      "Recall score: 0.6614703618167821\n",
      "Precision score: 0.6547082354435202\n",
      "Roc auc score: 0.655816132166084\n"
     ]
    }
   ],
   "source": [
    "preds = model_l2.predict(X_test)\n",
    "\n",
    "conf_matrix = metrics.confusion_matrix(y_test, preds)\n",
    "conf_matrix = pd.DataFrame(conf_matrix, index=model_l2.classes_)\n",
    "print('l2: ')\n",
    "print('Accuracy score: ' + str(metrics.accuracy_score(y_test, preds)))\n",
    "\n",
    "print('Recall score: ' + str(metrics.recall_score(y_test, preds)))\n",
    "\n",
    "print('Precision score: ' + str(metrics.precision_score(y_test, preds)))\n",
    "\n",
    "print('Roc auc score: ' + str(metrics.roc_auc_score(y_test, preds)))"
   ]
  },
  {
   "cell_type": "code",
   "execution_count": 12,
   "metadata": {},
   "outputs": [
    {
     "data": {
      "text/html": [
       "<div>\n",
       "<style scoped>\n",
       "    .dataframe tbody tr th:only-of-type {\n",
       "        vertical-align: middle;\n",
       "    }\n",
       "\n",
       "    .dataframe tbody tr th {\n",
       "        vertical-align: top;\n",
       "    }\n",
       "\n",
       "    .dataframe thead th {\n",
       "        text-align: right;\n",
       "    }\n",
       "</style>\n",
       "<table border=\"1\" class=\"dataframe\">\n",
       "  <thead>\n",
       "    <tr style=\"text-align: right;\">\n",
       "      <th></th>\n",
       "      <th>0</th>\n",
       "      <th>1</th>\n",
       "    </tr>\n",
       "  </thead>\n",
       "  <tbody>\n",
       "    <tr>\n",
       "      <th>0</th>\n",
       "      <td>30319</td>\n",
       "      <td>16314</td>\n",
       "    </tr>\n",
       "    <tr>\n",
       "      <th>1</th>\n",
       "      <td>15831</td>\n",
       "      <td>30933</td>\n",
       "    </tr>\n",
       "  </tbody>\n",
       "</table>\n",
       "</div>"
      ],
      "text/plain": [
       "       0      1\n",
       "0  30319  16314\n",
       "1  15831  30933"
      ]
     },
     "execution_count": 12,
     "metadata": {},
     "output_type": "execute_result"
    }
   ],
   "source": [
    "conf_matrix"
   ]
  },
  {
   "cell_type": "code",
   "execution_count": 13,
   "metadata": {},
   "outputs": [],
   "source": [
    "pred_prob_l1 = model_l1.predict(X_test)\n",
    "# preds = pred_prob_l1[:,1]\n",
    "fpr, tpr, threshold = metrics.roc_curve(y_test, pred_prob_l1)\n",
    "roc_auc = metrics.auc(fpr, tpr)\n",
    "# print(pred_prob_l1)"
   ]
  },
  {
   "cell_type": "code",
   "execution_count": 14,
   "metadata": {},
   "outputs": [
    {
     "name": "stdout",
     "output_type": "stream",
     "text": [
      "0.6558804342558046\n",
      "0.655816132166084\n"
     ]
    },
    {
     "data": {
      "image/png": "[encoded data removed]",
      "text/plain": [
       "<Figure size 432x288 with 1 Axes>"
      ]
     },
     "metadata": {
      "needs_background": "light"
     },
     "output_type": "display_data"
    }
   ],
   "source": [
    "print(roc_auc)\n",
    "plt.plot(fpr, tpr, 'g')\n",
    "pred_prob_l2 = model_l2.predict(X_test)\n",
    "# preds = pred_prob_l2[:,1]\n",
    "# print(pred_prob_l2)\n",
    "# print(preds)\n",
    "fpr, tpr, threshold = metrics.roc_curve(y_test, pred_prob_l2)\n",
    "roc_auc = metrics.auc(fpr, tpr)\n",
    "print(roc_auc)\n",
    "plt.plot(fpr, tpr, 'b')\n",
    "plt.show()\n",
    "# metrics.accuracy_score(y_test, preds)"
   ]
  },
  {
   "cell_type": "code",
   "execution_count": null,
   "metadata": {},
   "outputs": [],
   "source": []
  }
 ],
 "metadata": {
  "kernelspec": {
   "display_name": "Python 3",
   "language": "python",
   "name": "python3"
  },
  "language_info": {
   "codemirror_mode": {
    "name": "ipython",
    "version": 3
   },
   "file_extension": ".py",
   "mimetype": "text/x-python",
   "name": "python",
   "nbconvert_exporter": "python",
   "pygments_lexer": "ipython3",
   "version": "3.6.7"
  }
 },
 "nbformat": 4,
 "nbformat_minor": 2
}
