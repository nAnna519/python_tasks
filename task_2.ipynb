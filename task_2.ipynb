{
 "cells": [
  {
   "cell_type": "markdown",
   "metadata": {
    "collapsed": true
   },
   "source": [
    "<center>\n",
    "<img src=\"../img/python_theme.png\">\n",
    "# MLClass. \"Прикладной анализ данных\"\n",
    "# Модуль \"Инструментарий Data Science\"\n",
    "<img src=\"../img/mlclass_logo.jpg\" height=\"240\" width=\"240\">\n",
    "\n",
    "## Автор материала: Юрий Кашницкий, ФКН НИУ ВШЭ\n",
    "</center>\n",
    "Материал распространяется на условиях лицензии <a href=\"https://opensource.org/licenses/MS-RL\">Ms-RL</a>. Можно использовать в любых целях, кроме коммерческих, но с обязательным упоминанием автора материала."
   ]
  },
  {
   "cell_type": "markdown",
   "metadata": {},
   "source": [
    "# Задачи к уроку 3\n",
    "http://informatics.mccme.ru/mod/statements/view.php?id=16206#1"
   ]
  },
  {
   "cell_type": "code",
   "execution_count": 222,
   "metadata": {},
   "outputs": [],
   "source": [
    "# Python 2 and 3 compatibility\n",
    "# pip install future\n",
    "from __future__ import (absolute_import, division,\n",
    "                        print_function, unicode_literals)\n",
    "from builtins import *"
   ]
  },
  {
   "cell_type": "markdown",
   "metadata": {},
   "source": [
    "## Задача A\n",
    "Даны два целых числа A и B (при этом A $\\leq$ B). Выведите все числа от A до B включительно."
   ]
  },
  {
   "cell_type": "code",
   "execution_count": 223,
   "metadata": {},
   "outputs": [
    {
     "name": "stdout",
     "output_type": "stream",
     "text": [
      "10\n",
      "11\n",
      "12\n",
      "13\n",
      "14\n",
      "15\n",
      "16\n",
      "17\n",
      "18\n",
      "19\n",
      "20\n"
     ]
    }
   ],
   "source": [
    "A = 10\n",
    "B = 20\n",
    "\n",
    "for i in range(A, B + 1):\n",
    "    print(i)"
   ]
  },
  {
   "cell_type": "markdown",
   "metadata": {},
   "source": [
    "## Задача B\n",
    "По данному натуральном n вычислите сумму $1^2+2^2+3^2+ \\ldots +n^2$."
   ]
  },
  {
   "cell_type": "code",
   "execution_count": 2,
   "metadata": {},
   "outputs": [
    {
     "name": "stdout",
     "output_type": "stream",
     "text": [
      "14\n"
     ]
    }
   ],
   "source": [
    "n = 3\n",
    "answer = 0\n",
    "\n",
    "for i in range(1, n + 1):\n",
    "    answer += i * i\n",
    "    \n",
    "print(answer)"
   ]
  },
  {
   "cell_type": "markdown",
   "metadata": {},
   "source": [
    "## Задача C\n",
    "По данному целому неотрицательному n вычислите значение n!."
   ]
  },
  {
   "cell_type": "code",
   "execution_count": 225,
   "metadata": {},
   "outputs": [
    {
     "name": "stdout",
     "output_type": "stream",
     "text": [
      "720\n"
     ]
    }
   ],
   "source": [
    "n = 6\n",
    "answer = 1\n",
    "\n",
    "\n",
    "for i in range(1, n + 1):\n",
    "    answer *= i\n",
    "    \n",
    "print(answer)"
   ]
  },
  {
   "cell_type": "markdown",
   "metadata": {},
   "source": [
    "## Задача D\n",
    "По данным целым неотрицательным n и k вычислите значение числа сочетаний из n элементов по k, то есть $\\frac{n!}{k!(n-k)!}$."
   ]
  },
  {
   "cell_type": "code",
   "execution_count": 226,
   "metadata": {},
   "outputs": [
    {
     "name": "stdout",
     "output_type": "stream",
     "text": [
      "20.0\n"
     ]
    }
   ],
   "source": [
    "def factorial (n):    \n",
    "    answer = 1\n",
    "    for i in range(1, n + 1):\n",
    "        answer *= i\n",
    "    return answer\n",
    "\n",
    "n = 6\n",
    "k = 3\n",
    "\n",
    "answer = factorial(n) / (factorial(k) * factorial(n - k))\n",
    "\n",
    "print(answer)"
   ]
  },
  {
   "cell_type": "markdown",
   "metadata": {},
   "source": [
    "## Задача E\n",
    "Напишите программу, которая по данному числу n от 1 до 9 выводит на экран n пингвинов. Изображение одного пингвина имеет размер 5×9 символов, между двумя соседними пингвинами также имеется пустой (из пробелов) столбец. Разрешается вывести пустой столбец после последнего пингвина. Для упрощения рисования скопируйте пингвина из примера в среду разработки.\n",
    "\n"
   ]
  },
  {
   "cell_type": "code",
   "execution_count": 227,
   "metadata": {},
   "outputs": [],
   "source": [
    "penguine = [\"   _~_    \",\n",
    "            \"  (o o)   \",\n",
    "            \" /  V  \\  \",\n",
    "            \"/(  _  )\\ \",\n",
    "            \"  ^^ ^^   \"]"
   ]
  },
  {
   "cell_type": "code",
   "execution_count": 228,
   "metadata": {},
   "outputs": [
    {
     "name": "stdout",
     "output_type": "stream",
     "text": [
      "   _~_       _~_       _~_       _~_       _~_       _~_       _~_       _~_    \n",
      "  (o o)     (o o)     (o o)     (o o)     (o o)     (o o)     (o o)     (o o)   \n",
      " /  V  \\   /  V  \\   /  V  \\   /  V  \\   /  V  \\   /  V  \\   /  V  \\   /  V  \\  \n",
      "/(  _  )\\ /(  _  )\\ /(  _  )\\ /(  _  )\\ /(  _  )\\ /(  _  )\\ /(  _  )\\ /(  _  )\\ \n",
      "  ^^ ^^     ^^ ^^     ^^ ^^     ^^ ^^     ^^ ^^     ^^ ^^     ^^ ^^     ^^ ^^   \n"
     ]
    }
   ],
   "source": [
    "n = 8\n",
    "x, y = 5, 9\n",
    "\n",
    "for i in range(x):\n",
    "    print(penguine[i] * n)\n",
    "\n",
    "    "
   ]
  },
  {
   "cell_type": "markdown",
   "metadata": {
    "collapsed": true
   },
   "source": [
    "## Задача F\n",
    "Шоколадка имеет вид прямоугольника, разделенного на n×m долек. Шоколадку можно один раз разломить по прямой на две части. Определите, можно ли таким образом отломить от шоколадки ровно k долек."
   ]
  },
  {
   "cell_type": "code",
   "execution_count": 229,
   "metadata": {},
   "outputs": [
    {
     "name": "stdout",
     "output_type": "stream",
     "text": [
      "No\n"
     ]
    }
   ],
   "source": [
    "n = 5\n",
    "m = 6\n",
    "k = 21\n",
    "answer = 'No'\n",
    "\n",
    "if k % n == 0 or k % m == 0:\n",
    "    answer = 'Yes'\n",
    "\n",
    "print(answer)"
   ]
  },
  {
   "cell_type": "markdown",
   "metadata": {},
   "source": [
    "## Задача G\n",
    "Дано линейное уравнение $ax + b = 0$. Решите уравнение, напечатайте ответ. Если ответов бесконечно много, выведите \"INF\", если их нет - \"NO\"."
   ]
  },
  {
   "cell_type": "code",
   "execution_count": 230,
   "metadata": {},
   "outputs": [
    {
     "name": "stdout",
     "output_type": "stream",
     "text": [
      "-1.75\n"
     ]
    }
   ],
   "source": [
    "a = 4\n",
    "b = 7\n",
    "answer = ''\n",
    "\n",
    "if a == 0 and b == 0:\n",
    "    answer = 'INF'\n",
    "elif a == 0:\n",
    "    answer = 'NO'\n",
    "else:\n",
    "    answer = -b / a\n",
    "    \n",
    "print(answer)"
   ]
  },
  {
   "cell_type": "markdown",
   "metadata": {},
   "source": [
    "## Задача H\n",
    "Для данного числа n < 100 закончите фразу “На лугу пасется...” одним из возможных продолжений: “n коров”, “n корова”, “n коровы”, правильно склоняя слово “корова”."
   ]
  },
  {
   "cell_type": "code",
   "execution_count": null,
   "metadata": {},
   "outputs": [
    {
     "name": "stdout",
     "output_type": "stream",
     "text": [
      "На лугу пасётся 83 коровы\n"
     ]
    }
   ],
   "source": [
    "n = 83\n",
    "word = ''\n",
    "if n % 10 == 1 and n != 11:\n",
    "    word = 'корова'\n",
    "elif 2 <= n % 10 <= 4 and n != 12 and n != 13 and n != 14:\n",
    "    word = 'коровы'\n",
    "else:\n",
    "    word = 'коров'\n",
    "print('На лугу пасётся {0} {1}'.format(n, word))"
   ]
  },
  {
   "cell_type": "markdown",
   "metadata": {},
   "source": [
    "# Задача I. Диофантово уравнение"
   ]
  },
  {
   "cell_type": "markdown",
   "metadata": {},
   "source": [
    "Даны числа a, b, c, d. Выведите в порядке возрастания все целые числа от 0 до 1000, которые являются корнями уравнения $ax^3+bx^2+cx+d=0$."
   ]
  },
  {
   "cell_type": "code",
   "execution_count": null,
   "metadata": {},
   "outputs": [
    {
     "name": "stdout",
     "output_type": "stream",
     "text": [
      "1\n",
      "5\n"
     ]
    }
   ],
   "source": [
    "a, b, c, d = 1, -3, -13, 15\n",
    "\n",
    "for i in range(1001):\n",
    "    number = a * i * i * i + b * i * i + c * i + d\n",
    "    if number == 0:\n",
    "        print(i)"
   ]
  },
  {
   "cell_type": "markdown",
   "metadata": {},
   "source": [
    "## Задача J\n",
    "Квадрат трехзначного числа оканчивается тремя цифрами, равными этому числу. Найдите и выведите все такие числа."
   ]
  },
  {
   "cell_type": "code",
   "execution_count": null,
   "metadata": {},
   "outputs": [
    {
     "name": "stdout",
     "output_type": "stream",
     "text": [
      "376\n",
      "625\n"
     ]
    }
   ],
   "source": [
    "for i in range(100, 1000):\n",
    "    number = i * i\n",
    "    last_number = int(str(number)[-3:-1] + str(number)[-1])\n",
    "    if i == last_number:\n",
    "        print(i)\n",
    "    "
   ]
  },
  {
   "cell_type": "markdown",
   "metadata": {},
   "source": [
    "## Задача K\n",
    "По данному натуральному $n \\leq 9$ выведите лесенку из n ступенек, i-я ступенька состоит из чисел от 1 до i без пробелов."
   ]
  },
  {
   "cell_type": "code",
   "execution_count": null,
   "metadata": {},
   "outputs": [
    {
     "name": "stdout",
     "output_type": "stream",
     "text": [
      "1\n",
      "12\n",
      "123\n",
      "1234\n",
      "12345\n",
      "123456\n",
      "1234567\n",
      "12345678\n",
      "123456789\n"
     ]
    }
   ],
   "source": [
    "n = 9\n",
    "\n",
    "for i in range(1, n + 1):\n",
    "    string = ''\n",
    "    for j in range(1, i + 1):\n",
    "        string += str(j)\n",
    "    print(string)"
   ]
  },
  {
   "cell_type": "markdown",
   "metadata": {},
   "source": [
    "## Задача L\n",
    "Дано три числа. Упорядочите их в порядке неубывания. Программа должна считывать три числа a, b, c, затем программа должна менять их значения так, чтобы стали выполнены условия $a \\leq b \\leq c$, затем программа выводит тройку a, b, c."
   ]
  },
  {
   "cell_type": "code",
   "execution_count": 11,
   "metadata": {},
   "outputs": [
    {
     "name": "stdout",
     "output_type": "stream",
     "text": [
      "9\n",
      "2\n",
      "5\n",
      "2 5 9\n"
     ]
    }
   ],
   "source": [
    "a = int(input())\n",
    "b = int(input())\n",
    "c = int(input())\n",
    "\n",
    "if a > b:\n",
    "    a, b = b, a\n",
    "if a > c:\n",
    "    a, c = c, a\n",
    "if b > c:\n",
    "    b, c = c, b\n",
    "\n",
    "print(a, b, c)"
   ]
  },
  {
   "cell_type": "markdown",
   "metadata": {},
   "source": [
    "## Задача M\n",
    "Давным-давно билет на одну поездку в метро стоил 15 рубля, билет на 10 поездок стоил 125 рублей, билет на 60 поездок стоил 440 рублей. Пассажир планирует совершить n поездок. Определите, сколько билетов каждого вида он должен приобрести, чтобы суммарное количество оплаченных поездок было не меньше n, а общая стоимость приобретенных билетов — минимальна."
   ]
  },
  {
   "cell_type": "code",
   "execution_count": 12,
   "metadata": {},
   "outputs": [
    {
     "name": "stdout",
     "output_type": "stream",
     "text": [
      "[0, 0, 1]\n",
      "440\n"
     ]
    }
   ],
   "source": [
    "n_1, price_1 = 1, 15\n",
    "n_2, price_2 = 10, 125\n",
    "n_3, price_3 = 60, 440\n",
    "\n",
    "n = 36\n",
    "\n",
    "solution = [0, 0, 0]\n",
    "\n",
    "solution[2] = n // n_3\n",
    "solution[1] = (n - solution[2] * n_3) // n_2\n",
    "solution[0] = (n - solution[2] * n_3 - solution[1] * n_2)\n",
    "\n",
    "if solution[0] * price_1 > price_2:\n",
    "    solution[0] = 0\n",
    "    solution[1] += 1\n",
    "    \n",
    "if solution[1] * price_2 > price_3:\n",
    "    solution[1] = 0\n",
    "    solution[2] += 1\n",
    "    solution[0] = 0\n",
    "    if n > solution[2] * n_3:\n",
    "        solution[0] = n - solution[2] * n_3\n",
    "        \n",
    "if solution[0] * price_1 + solution[1] * price_2 > price_3:\n",
    "    solution[0] = 0\n",
    "    solution[1] = 0\n",
    "    solution[2] += 1\n",
    "    \n",
    "price = price_1 * solution[0] + price_2 * solution[1] + price_3 * solution[2]\n",
    "print(solution)\n",
    "print(price)"
   ]
  },
  {
   "cell_type": "markdown",
   "metadata": {},
   "source": [
    "Попробуйте решить как задачу линейного программирования с помощью SciPy"
   ]
  },
  {
   "cell_type": "code",
   "execution_count": 13,
   "metadata": {},
   "outputs": [
    {
     "name": "stdout",
     "output_type": "stream",
     "text": [
      "[0.         0.         0.83333332]\n"
     ]
    }
   ],
   "source": [
    "from scipy.optimize import minimize\n",
    "import numpy as np\n",
    "import math\n",
    "\n",
    "\n",
    "def objective(x):\n",
    "    x_1 = (x[0])\n",
    "    x_2 = (x[1])\n",
    "    x_3 = (x[2])\n",
    "    return (15 * x_1 + 125 * x_2 + 440 * x_3)\n",
    "\n",
    "def constraint(x):\n",
    "    k = 50\n",
    "    return x[0] * 1 + x[1] * 10 + x[2] * 60 - k\n",
    "\n",
    "b = (0, 100)\n",
    "bnds = (b, b, b)\n",
    "con = [{'type': 'ineq', 'fun' : constraint}]\n",
    "x_0 = [100,100,100]\n",
    "sol = minimize(objective, x_0, bounds = bnds, constraints = con)\n",
    "print(sol.x)\n",
    "      \n",
    "\n",
    "\n",
    "# from scipy.optimize import linprog\n",
    "\n",
    "\n",
    "# n = 50\n",
    "\n",
    "# c = [15, 125, 440]\n",
    "# a = [-1, -10, -60]\n",
    "# b = [-n]\n",
    "\n",
    "# x_bounds = ((0, None), ) * 3\n",
    "# print()\n",
    "# solution = linprog(c, A_ub=a, b_ub=b, bounds=x_bounds, options={\"disp\": True})\n",
    "\n",
    "# print(solution)\n"
   ]
  },
  {
   "cell_type": "markdown",
   "metadata": {},
   "source": [
    "## Задача N. Сумма факториалов\n",
    "По данному натуральном n вычислите сумму 1! + 2! + 3! + ... +n!. В решении этой задачи можно использовать только один цикл."
   ]
  },
  {
   "cell_type": "code",
   "execution_count": 14,
   "metadata": {},
   "outputs": [
    {
     "name": "stdout",
     "output_type": "stream",
     "text": [
      "153\n"
     ]
    }
   ],
   "source": [
    "n = 5\n",
    "factorial = [1]\n",
    "summa = 0\n",
    "\n",
    "for i in range(2, n + 1):\n",
    "    factorial.append(i * factorial[i - 2])    \n",
    "    \n",
    "print(sum(factorial))"
   ]
  },
  {
   "cell_type": "code",
   "execution_count": null,
   "metadata": {},
   "outputs": [],
   "source": []
  }
 ],
 "metadata": {
  "kernelspec": {
   "display_name": "Python 3",
   "language": "python",
   "name": "python3"
  },
  "language_info": {
   "codemirror_mode": {
    "name": "ipython",
    "version": 3
   },
   "file_extension": ".py",
   "mimetype": "text/x-python",
   "name": "python",
   "nbconvert_exporter": "python",
   "pygments_lexer": "ipython3",
   "version": "3.7.1"
  },
  "name": "seminar1_python_intro_tools.ipynb"
 },
 "nbformat": 4,
 "nbformat_minor": 1
}
